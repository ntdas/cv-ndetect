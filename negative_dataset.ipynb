{
 "cells": [
  {
   "cell_type": "code",
   "execution_count": 1,
   "metadata": {},
   "outputs": [],
   "source": [
    "import numpy as np\n",
    "import pandas as pd\n",
    "import matplotlib.pyplot as plt\n",
    "import matplotlib\n",
    "import cv2\n",
    "import os\n",
    "from glob import glob\n",
    "from tqdm import tqdm\n",
    "from skimage.feature import hog\n",
    "from skimage import exposure\n",
    "import pickle"
   ]
  },
  {
   "cell_type": "markdown",
   "metadata": {},
   "source": [
    "### Load training set label"
   ]
  },
  {
   "cell_type": "code",
   "execution_count": 2,
   "metadata": {},
   "outputs": [
    {
     "data": {
      "text/html": [
       "<div>\n",
       "<style scoped>\n",
       "    .dataframe tbody tr th:only-of-type {\n",
       "        vertical-align: middle;\n",
       "    }\n",
       "\n",
       "    .dataframe tbody tr th {\n",
       "        vertical-align: top;\n",
       "    }\n",
       "\n",
       "    .dataframe thead th {\n",
       "        text-align: right;\n",
       "    }\n",
       "</style>\n",
       "<table border=\"1\" class=\"dataframe\">\n",
       "  <thead>\n",
       "    <tr style=\"text-align: right;\">\n",
       "      <th></th>\n",
       "      <th>name</th>\n",
       "      <th>height</th>\n",
       "      <th>left</th>\n",
       "      <th>top</th>\n",
       "      <th>width</th>\n",
       "      <th>label</th>\n",
       "    </tr>\n",
       "  </thead>\n",
       "  <tbody>\n",
       "    <tr>\n",
       "      <th>0</th>\n",
       "      <td>1.png</td>\n",
       "      <td>219</td>\n",
       "      <td>246</td>\n",
       "      <td>77</td>\n",
       "      <td>81</td>\n",
       "      <td>1</td>\n",
       "    </tr>\n",
       "    <tr>\n",
       "      <th>1</th>\n",
       "      <td>1.png</td>\n",
       "      <td>219</td>\n",
       "      <td>323</td>\n",
       "      <td>81</td>\n",
       "      <td>96</td>\n",
       "      <td>9</td>\n",
       "    </tr>\n",
       "    <tr>\n",
       "      <th>2</th>\n",
       "      <td>2.png</td>\n",
       "      <td>32</td>\n",
       "      <td>77</td>\n",
       "      <td>29</td>\n",
       "      <td>23</td>\n",
       "      <td>2</td>\n",
       "    </tr>\n",
       "    <tr>\n",
       "      <th>3</th>\n",
       "      <td>2.png</td>\n",
       "      <td>32</td>\n",
       "      <td>98</td>\n",
       "      <td>25</td>\n",
       "      <td>26</td>\n",
       "      <td>3</td>\n",
       "    </tr>\n",
       "    <tr>\n",
       "      <th>4</th>\n",
       "      <td>3.png</td>\n",
       "      <td>15</td>\n",
       "      <td>17</td>\n",
       "      <td>5</td>\n",
       "      <td>8</td>\n",
       "      <td>2</td>\n",
       "    </tr>\n",
       "  </tbody>\n",
       "</table>\n",
       "</div>"
      ],
      "text/plain": [
       "    name  height  left  top  width  label\n",
       "0  1.png     219   246   77     81      1\n",
       "1  1.png     219   323   81     96      9\n",
       "2  2.png      32    77   29     23      2\n",
       "3  2.png      32    98   25     26      3\n",
       "4  3.png      15    17    5      8      2"
      ]
     },
     "execution_count": 2,
     "metadata": {},
     "output_type": "execute_result"
    }
   ],
   "source": [
    "df = pd.read_csv('./train_label.csv')\n",
    "df.head()"
   ]
  },
  {
   "cell_type": "code",
   "execution_count": 3,
   "metadata": {},
   "outputs": [
    {
     "data": {
      "text/plain": [
       "73257"
      ]
     },
     "execution_count": 3,
     "metadata": {},
     "output_type": "execute_result"
    }
   ],
   "source": [
    "len(df)"
   ]
  },
  {
   "cell_type": "markdown",
   "metadata": {},
   "source": [
    "### Find and drop all row with left value < 0"
   ]
  },
  {
   "cell_type": "code",
   "execution_count": 4,
   "metadata": {},
   "outputs": [],
   "source": [
    "df.drop(np.where(df.left < 0)[0], inplace=True)"
   ]
  },
  {
   "cell_type": "code",
   "execution_count": 5,
   "metadata": {},
   "outputs": [
    {
     "data": {
      "text/plain": [
       "73228"
      ]
     },
     "execution_count": 5,
     "metadata": {},
     "output_type": "execute_result"
    }
   ],
   "source": [
    "len(df)"
   ]
  },
  {
   "cell_type": "markdown",
   "metadata": {},
   "source": [
    "### Create negative dataset"
   ]
  },
  {
   "cell_type": "code",
   "execution_count": 6,
   "metadata": {},
   "outputs": [],
   "source": [
    "train_path = '../data/train/'"
   ]
  },
  {
   "cell_type": "code",
   "execution_count": 7,
   "metadata": {},
   "outputs": [],
   "source": [
    "def pre_process(path, name, factor=1.3):\n",
    "    \"\"\"\n",
    "    Preprocess image: RGB image --> Gray image --> Blur image (reduce noise) --> High Pass Filter (sharpen)         --> Constrast Limited Adaptive Histogram Equalization --> Exposure\n",
    "    @INPUT:\n",
    "        - path: image path\n",
    "        - name: image name\n",
    "        - factor: exposure factor\n",
    "    @OUTPUT:\n",
    "        - imgAHE: preprocessed image\n",
    "    \"\"\"\n",
    "    kernel = np.array([[0,-1,0], [-1,5,-1], [0,-1,0]], np.float32)\n",
    "    \n",
    "    img = cv2.imread(os.path.join(path, name))\n",
    "\n",
    "    imgGray = cv2.cvtColor(img, cv2.COLOR_BGR2GRAY) # convert to gray image\n",
    "\n",
    "    imgBlur = cv2.GaussianBlur(imgGray, (3,3), 0)   # reduce noise\n",
    "\n",
    "    imgH = cv2.filter2D(imgBlur, -1, kernel)        # sharpen\n",
    "\n",
    "    AHE = cv2.createCLAHE(clipLimit=2.0, tileGridSize=(8,8))# Contrast Limited Adaptive Histogram Equalization \n",
    "    imgAHE = AHE.apply(imgH)\n",
    "    imgAHE = np.array(imgAHE)\n",
    "\n",
    "    img_processed = imgAHE*factor   # exposure\n",
    "\n",
    "    return img_processed"
   ]
  },
  {
   "cell_type": "code",
   "execution_count": 8,
   "metadata": {},
   "outputs": [],
   "source": [
    "def get_background_hog(im, top, bottom, left, right, winSize=(16,32), nsamples=15,\n",
    "                   orientations=9, pixels_per_cell=(4,4), cells_per_block=(2,2)):\n",
    "    \"\"\"\n",
    "    Calculate HOG feature for background patch in an image. \n",
    "    Background HOG is calculated from a patch with size winSize cut from region (top, bottom, left, right) of image.\n",
    "    @INPUT:\n",
    "        - im: Image need to find background HOG feature\n",
    "        - top: top position to find background\n",
    "        - bottom: bottom position to find background\n",
    "        - left: left position to find background\n",
    "        - right: right position to find background\n",
    "        - winSize: background patch size: winSize[0] - height, winSize[1] - width\n",
    "        - nsamples: number of background patch need to find\n",
    "        - orientations: number of histogram bins in HOG\n",
    "        - pixels_per_cell: HOG cell size\n",
    "        - cells_per_block: number of cells in a block\n",
    "    @OUTPUT:\n",
    "        - bg: Array of size (nsamples * number of HOG features). Each row of bg contains HOG features \n",
    "        of a background patch\n",
    "    \"\"\"\n",
    "    # Get image shape\n",
    "    h, w = im.shape\n",
    "    \n",
    "    # Init background stack\n",
    "    bg = np.array([])\n",
    "    \n",
    "    # Calculate step size\n",
    "    stepc = np.int(winSize[0]/2)\n",
    "    stepr = np.int(winSize[1]/2)\n",
    "    \n",
    "    # Find search margin\n",
    "    t = top if top >= 0 else 0\n",
    "    l = left if left >= 0 else 0\n",
    "    b = bottom if bottom <= h-1 else h-1\n",
    "    r = right if right <= w-1 else w-1\n",
    "#     print(top, bottom, left, right)\n",
    "    \n",
    "    # Find all background patch\n",
    "    cIdx = l\n",
    "    while cIdx + winSize[0] <= r:\n",
    "        rIdx = t\n",
    "        while rIdx + winSize[1] <= b:\n",
    "            # Get background patch\n",
    "            patch = im[rIdx:rIdx+winSize[1], cIdx:cIdx+winSize[0]]\n",
    "            \n",
    "            # Calculate HOG for background patch\n",
    "            fd = hog(patch, orientations=orientations, pixels_per_cell=pixels_per_cell,\n",
    "                    cells_per_block=cells_per_block)\n",
    "            fd = fd.reshape(1,-1)\n",
    "            \n",
    "            # Stack\n",
    "            if bg.size:\n",
    "                bg = np.vstack((bg, fd))\n",
    "            else:\n",
    "                bg = fd\n",
    "            \n",
    "            # Check if get enough background patch\n",
    "            if bg.shape[0] >= nsamples:\n",
    "                return bg\n",
    "                \n",
    "            # Change to next patch\n",
    "            rIdx += stepr\n",
    "        cIdx += stepc\n",
    "    return bg"
   ]
  },
  {
   "cell_type": "code",
   "execution_count": 9,
   "metadata": {},
   "outputs": [],
   "source": [
    "def create_negative(path, name, bbox, margin=10, winSize=(16,32), nsamples=10,\n",
    "                   orientations=9, pixels_per_cell=(4,4), cells_per_block=(2,2)):\n",
    "    \"\"\"\n",
    "    Create an negative dataset from dataset by extracting image background\n",
    "    @INPUT:\n",
    "        - path: path to dataset\n",
    "        - name: image name need to extract background\n",
    "        - bbox: Pandas dataframe, contain bounding box of numbers in image\n",
    "        - margin: number of pixels away from bounding box position to extract background\n",
    "        - winSize: background patch size: winSize[0] - height, winSize[1] - width\n",
    "        - nsamples: number of background patch need to find\n",
    "        - orientations: number of histogram bins in HOG\n",
    "        - pixels_per_cell: HOG cell size\n",
    "        - cells_per_block: number of cells in a block\n",
    "    @OUTPUT:\n",
    "        - bg: Array of size (nsamples * number of HOG features). Each row of bg contains HOG features \n",
    "        of a background patch\n",
    "    \"\"\"\n",
    "    # Read image\n",
    "    im = pre_process(path, name)\n",
    "    \n",
    "    # Get image size\n",
    "    h, w = im.shape\n",
    "    \n",
    "    # Get bounding box of number in image\n",
    "    top = np.min(bbox.top)\n",
    "    bottom = np.max(bbox.top + bbox.height)\n",
    "    left = np.min(bbox.left)\n",
    "    right = np.max(bbox.left + bbox.width)\n",
    "#     print(top, bottom, left, right)\n",
    "    \n",
    "    # Initialize output\n",
    "    bg = np.array([])\n",
    "\n",
    "    # Find background patch on the left\n",
    "    bg_left = get_background_hog(im, 0, h-1, 0, left-margin, winSize, nsamples,\n",
    "                                orientations, pixels_per_cell, cells_per_block)\n",
    "    if bg_left.size:\n",
    "        bg = bg_left\n",
    "    \n",
    "    if bg.shape[0] >= nsamples:\n",
    "        return bg\n",
    "    \n",
    "    # Find background patch on the right\n",
    "    bg_right = get_background_hog(im, 0, h-1, right + margin, w-1, winSize, nsamples,\n",
    "                                 orientations, pixels_per_cell, cells_per_block)\n",
    "    if bg_right.size:\n",
    "        if bg.size:\n",
    "            bg = np.vstack((bg, bg_right))\n",
    "        else:\n",
    "            bg = bg_right\n",
    "    \n",
    "    if bg.shape[0] >= nsamples:\n",
    "        return bg\n",
    "    \n",
    "    # Find background patch on top\n",
    "    bg_top = get_background_hog(im, 0, top - margin, left - margin, right + margin, winSize, nsamples,\n",
    "                               orientations, pixels_per_cell, cells_per_block)\n",
    "    if bg_top.size:\n",
    "        if bg.size:\n",
    "            bg = np.vstack((bg, bg_top))\n",
    "        else:\n",
    "            bg = bg_top\n",
    "    \n",
    "    if bg.shape[0] >= nsamples:\n",
    "        return bg\n",
    "    \n",
    "    # Find background patch on bottom\n",
    "    bg_bottom = get_background_hog(im, bottom + margin, h-1, left - margin, right + margin, winSize, nsamples,\n",
    "                                  orientations, pixels_per_cell, cells_per_block)\n",
    "    if bg_bottom.size:\n",
    "        if bg.size:\n",
    "            bg = np.vstack((bg, bg_bottom))\n",
    "        else:\n",
    "            bg = bg_bottom\n",
    "        \n",
    "    return bg"
   ]
  },
  {
   "cell_type": "code",
   "execution_count": 10,
   "metadata": {},
   "outputs": [
    {
     "name": "stderr",
     "output_type": "stream",
     "text": [
      "100%|████████████████████████████████████████████████████████████████████████████| 33402/33402 [41:15<00:00, 13.49it/s]\n"
     ]
    }
   ],
   "source": [
    "# Get all image in training set\n",
    "names = os.listdir('../data/train/')\n",
    "\n",
    "# Parameters\n",
    "margin = 10\n",
    "winSize = (16,32)\n",
    "nsamples = 3\n",
    "orientations = 9\n",
    "pixels_per_cell = (4,4)\n",
    "cells_per_block = (2,2)\n",
    "\n",
    "# Get background HOG of all image in training set\n",
    "bg = np.array([])\n",
    "for name in tqdm(names):\n",
    "    img_bg = create_negative(train_path, name, df[df.name == name], margin, winSize, nsamples,\n",
    "                            orientations, pixels_per_cell, cells_per_block)\n",
    "    if img_bg.size:\n",
    "        if bg.size:\n",
    "            bg = np.vstack((bg, img_bg))\n",
    "        else:\n",
    "            bg = img_bg"
   ]
  },
  {
   "cell_type": "code",
   "execution_count": 11,
   "metadata": {},
   "outputs": [
    {
     "data": {
      "text/plain": [
       "(74980, 540)"
      ]
     },
     "execution_count": 11,
     "metadata": {},
     "output_type": "execute_result"
    }
   ],
   "source": [
    "bg.shape"
   ]
  },
  {
   "cell_type": "code",
   "execution_count": 14,
   "metadata": {},
   "outputs": [],
   "source": [
    "# Save negative data set\n",
    "import pickle\n",
    "filename = 'negative_set.p'\n",
    "fileObj = open('./16x32/' + filename, 'wb')\n",
    "pickle.dump(bg, fileObj)\n",
    "fileObj.close()"
   ]
  },
  {
   "cell_type": "code",
   "execution_count": null,
   "metadata": {},
   "outputs": [],
   "source": []
  }
 ],
 "metadata": {
  "kernelspec": {
   "display_name": "Python 3",
   "language": "python",
   "name": "python3"
  },
  "language_info": {
   "codemirror_mode": {
    "name": "ipython",
    "version": 3
   },
   "file_extension": ".py",
   "mimetype": "text/x-python",
   "name": "python",
   "nbconvert_exporter": "python",
   "pygments_lexer": "ipython3",
   "version": "3.8.3"
  }
 },
 "nbformat": 4,
 "nbformat_minor": 4
}
