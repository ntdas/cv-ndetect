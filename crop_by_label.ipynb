{
 "metadata": {
  "language_info": {
   "codemirror_mode": {
    "name": "ipython",
    "version": 3
   },
   "file_extension": ".py",
   "mimetype": "text/x-python",
   "name": "python",
   "nbconvert_exporter": "python",
   "pygments_lexer": "ipython3",
   "version": "3.8.6-final"
  },
  "orig_nbformat": 2,
  "kernelspec": {
   "name": "python3",
   "display_name": "Python 3.8.6 64-bit",
   "metadata": {
    "interpreter": {
     "hash": "75813cdbaa899be14889d837480d012914ddabb2e90223e902ec6a0f4f596a20"
    }
   }
  }
 },
 "nbformat": 4,
 "nbformat_minor": 2,
 "cells": [
  {
   "cell_type": "code",
   "execution_count": 127,
   "metadata": {},
   "outputs": [],
   "source": [
    "import numpy as np \n",
    "import pandas as pd\n",
    "import os\n",
    "import matplotlib.pyplot as plt\n",
    "import cv2\n",
    "from skimage.feature import hog\n",
    "import pickle\n",
    "from tqdm import tqdm"
   ]
  },
  {
   "cell_type": "code",
   "execution_count": 128,
   "metadata": {},
   "outputs": [],
   "source": [
    "labels = pd.read_csv('./train_label.csv')"
   ]
  },
  {
   "cell_type": "code",
   "execution_count": 129,
   "metadata": {},
   "outputs": [
    {
     "output_type": "execute_result",
     "data": {
      "text/plain": [
       "    name  height  left  top  width  label\n",
       "0  1.png     219   246   77     81      1\n",
       "1  1.png     219   323   81     96      9\n",
       "2  2.png      32    77   29     23      2\n",
       "3  2.png      32    98   25     26      3\n",
       "4  3.png      15    17    5      8      2"
      ],
      "text/html": "<div>\n<style scoped>\n    .dataframe tbody tr th:only-of-type {\n        vertical-align: middle;\n    }\n\n    .dataframe tbody tr th {\n        vertical-align: top;\n    }\n\n    .dataframe thead th {\n        text-align: right;\n    }\n</style>\n<table border=\"1\" class=\"dataframe\">\n  <thead>\n    <tr style=\"text-align: right;\">\n      <th></th>\n      <th>name</th>\n      <th>height</th>\n      <th>left</th>\n      <th>top</th>\n      <th>width</th>\n      <th>label</th>\n    </tr>\n  </thead>\n  <tbody>\n    <tr>\n      <th>0</th>\n      <td>1.png</td>\n      <td>219</td>\n      <td>246</td>\n      <td>77</td>\n      <td>81</td>\n      <td>1</td>\n    </tr>\n    <tr>\n      <th>1</th>\n      <td>1.png</td>\n      <td>219</td>\n      <td>323</td>\n      <td>81</td>\n      <td>96</td>\n      <td>9</td>\n    </tr>\n    <tr>\n      <th>2</th>\n      <td>2.png</td>\n      <td>32</td>\n      <td>77</td>\n      <td>29</td>\n      <td>23</td>\n      <td>2</td>\n    </tr>\n    <tr>\n      <th>3</th>\n      <td>2.png</td>\n      <td>32</td>\n      <td>98</td>\n      <td>25</td>\n      <td>26</td>\n      <td>3</td>\n    </tr>\n    <tr>\n      <th>4</th>\n      <td>3.png</td>\n      <td>15</td>\n      <td>17</td>\n      <td>5</td>\n      <td>8</td>\n      <td>2</td>\n    </tr>\n  </tbody>\n</table>\n</div>"
     },
     "metadata": {},
     "execution_count": 129
    }
   ],
   "source": [
    "labels.head()"
   ]
  },
  {
   "cell_type": "code",
   "execution_count": 130,
   "metadata": {},
   "outputs": [],
   "source": [
    "train_path = '../data/train/' #### TO BE CHANGEDDDDD\n",
    "train_images = os.listdir(train_path)"
   ]
  },
  {
   "cell_type": "code",
   "execution_count": 131,
   "metadata": {},
   "outputs": [],
   "source": [
    "def get_cropped(labels, i, option =0):\n",
    "    image = cv2.imread(os.path.join(train_path, labels['name'][i]))\n",
    "    x1 = labels['top'][i]\n",
    "    if (x1 < 0): \n",
    "        return None\n",
    "    x2 = x1 + labels['height'][i]\n",
    "    y1 = labels['left'][i]\n",
    "    if (y1 < 0): \n",
    "        return None\n",
    "    y2 = y1 + labels['width'][i]\n",
    "    cropimg = image[x1:x2,y1:y2,:]\n",
    "    if (option == 0): #16x32\n",
    "        if (((x2-x1) < 32 ) or ((y2-y1)<16)):\n",
    "            #print('return NONE')\n",
    "            return None\n",
    "    elif(option == 1): #16x32\n",
    "        if (((x2-x1) < 16 ) or ((y2-y1)<8)):\n",
    "            #print('return NONE')\n",
    "            return None\n",
    "    return cropimg"
   ]
  },
  {
   "cell_type": "code",
   "execution_count": 132,
   "metadata": {},
   "outputs": [],
   "source": [
    "def resize_img(img, option = 0):\n",
    "    #option 0: 16x32\n",
    "    #option 1: 8x16\n",
    "    if option == 0:\n",
    "        dim = (16,32)\n",
    "    elif option == 1:\n",
    "        dim = (8,16)\n",
    "    #print(img.shape)\n",
    "    img_resized = cv2.resize(img, dim, interpolation = cv2.INTER_AREA)\n",
    "    return img_resized"
   ]
  },
  {
   "cell_type": "code",
   "execution_count": 133,
   "metadata": {
    "tags": []
   },
   "outputs": [
    {
     "output_type": "stream",
     "name": "stderr",
     "text": [
      "100%|██████████| 73257/73257 [01:54<00:00, 641.42it/s]\n"
     ]
    }
   ],
   "source": [
    "filename = 'HOG_16x32'\n",
    "count = 0\n",
    "num_desc = 72\n",
    "tosave = np.zeros((len(labels), num_desc))\n",
    "for i in tqdm(range(len(labels))):\n",
    "    I = get_cropped(labels, i)\n",
    "    if (I is None):\n",
    "        count = count+1\n",
    "        continue\n",
    "    I = resize_img(I, option =0)\n",
    "    desc= hog(I, pixels_per_cell = (8,8), cells_per_block = (4,2))\n",
    "    #print(tosave[i,:].shape)\n",
    "    \n",
    "    #print('i is', i)\n",
    "    tosave[i,:] = desc \n"
   ]
  },
  {
   "cell_type": "code",
   "execution_count": 134,
   "metadata": {},
   "outputs": [
    {
     "output_type": "stream",
     "name": "stdout",
     "text": [
      "(73257, 72)\n47303\n"
     ]
    }
   ],
   "source": [
    "print(tosave.shape)\n",
    "print(count)"
   ]
  },
  {
   "cell_type": "code",
   "execution_count": 135,
   "metadata": {
    "tags": []
   },
   "outputs": [
    {
     "output_type": "stream",
     "name": "stderr",
     "text": [
      "100%|██████████| 73257/73257 [01:30<00:00, 806.73it/s](1868688,)\n",
      "\n"
     ]
    }
   ],
   "source": [
    "#print(tosave.shape)\n",
    "tosavenew = np.array([])\n",
    "for i in tqdm(range(len(labels))):\n",
    "    if np.all(tosave[i,:] == np.zeros(num_desc)):\n",
    "        continue\n",
    "    tosavenew = np.append(tosavenew, tosave[i,:])\n",
    "print(tosavenew.shape)\n",
    "tosavenew = tosavenew.reshape(-1,num_desc)"
   ]
  },
  {
   "cell_type": "code",
   "execution_count": 136,
   "metadata": {},
   "outputs": [
    {
     "output_type": "execute_result",
     "data": {
      "text/plain": [
       "(25954, 72)"
      ]
     },
     "metadata": {},
     "execution_count": 136
    }
   ],
   "source": [
    "tosavenew.shape"
   ]
  },
  {
   "cell_type": "code",
   "execution_count": 137,
   "metadata": {},
   "outputs": [
    {
     "output_type": "stream",
     "text": [
      "\u001b[1;31mSignature:\u001b[0m \u001b[0mnp\u001b[0m\u001b[1;33m.\u001b[0m\u001b[0mall\u001b[0m\u001b[1;33m(\u001b[0m\u001b[0ma\u001b[0m\u001b[1;33m,\u001b[0m \u001b[0maxis\u001b[0m\u001b[1;33m=\u001b[0m\u001b[1;32mNone\u001b[0m\u001b[1;33m,\u001b[0m \u001b[0mout\u001b[0m\u001b[1;33m=\u001b[0m\u001b[1;32mNone\u001b[0m\u001b[1;33m,\u001b[0m \u001b[0mkeepdims\u001b[0m\u001b[1;33m=\u001b[0m\u001b[1;33m<\u001b[0m\u001b[0mno\u001b[0m \u001b[0mvalue\u001b[0m\u001b[1;33m>\u001b[0m\u001b[1;33m)\u001b[0m\u001b[1;33m\u001b[0m\u001b[1;33m\u001b[0m\u001b[0m\n",
      "\u001b[1;31mDocstring:\u001b[0m\n",
      "Test whether all array elements along a given axis evaluate to True.\n",
      "\n",
      "Parameters\n",
      "----------\n",
      "a : array_like\n",
      "    Input array or object that can be converted to an array.\n",
      "axis : None or int or tuple of ints, optional\n",
      "    Axis or axes along which a logical AND reduction is performed.\n",
      "    The default (``axis=None``) is to perform a logical AND over all\n",
      "    the dimensions of the input array. `axis` may be negative, in\n",
      "    which case it counts from the last to the first axis.\n",
      "\n",
      "    .. versionadded:: 1.7.0\n",
      "\n",
      "    If this is a tuple of ints, a reduction is performed on multiple\n",
      "    axes, instead of a single axis or all the axes as before.\n",
      "out : ndarray, optional\n",
      "    Alternate output array in which to place the result.\n",
      "    It must have the same shape as the expected output and its\n",
      "    type is preserved (e.g., if ``dtype(out)`` is float, the result\n",
      "    will consist of 0.0's and 1.0's). See `ufuncs-output-type` for more\n",
      "    details.\n",
      "\n",
      "keepdims : bool, optional\n",
      "    If this is set to True, the axes which are reduced are left\n",
      "    in the result as dimensions with size one. With this option,\n",
      "    the result will broadcast correctly against the input array.\n",
      "\n",
      "    If the default value is passed, then `keepdims` will not be\n",
      "    passed through to the `all` method of sub-classes of\n",
      "    `ndarray`, however any non-default value will be.  If the\n",
      "    sub-class' method does not implement `keepdims` any\n",
      "    exceptions will be raised.\n",
      "\n",
      "Returns\n",
      "-------\n",
      "all : ndarray, bool\n",
      "    A new boolean or array is returned unless `out` is specified,\n",
      "    in which case a reference to `out` is returned.\n",
      "\n",
      "See Also\n",
      "--------\n",
      "ndarray.all : equivalent method\n",
      "\n",
      "any : Test whether any element along a given axis evaluates to True.\n",
      "\n",
      "Notes\n",
      "-----\n",
      "Not a Number (NaN), positive infinity and negative infinity\n",
      "evaluate to `True` because these are not equal to zero.\n",
      "\n",
      "Examples\n",
      "--------\n",
      ">>> np.all([[True,False],[True,True]])\n",
      "False\n",
      "\n",
      ">>> np.all([[True,False],[True,True]], axis=0)\n",
      "array([ True, False])\n",
      "\n",
      ">>> np.all([-1, 4, 5])\n",
      "True\n",
      "\n",
      ">>> np.all([1.0, np.nan])\n",
      "True\n",
      "\n",
      ">>> o=np.array(False)\n",
      ">>> z=np.all([-1, 4, 5], out=o)\n",
      ">>> id(z), id(o), z\n",
      "(28293632, 28293632, array(True)) # may vary\n",
      "\u001b[1;31mFile:\u001b[0m      c:\\users\\kietbs\\appdata\\local\\programs\\python\\python38\\lib\\site-packages\\numpy\\core\\fromnumeric.py\n",
      "\u001b[1;31mType:\u001b[0m      function\n"
     ],
     "name": "stdout"
    }
   ],
   "source": [
    "np.all?"
   ]
  },
  {
   "cell_type": "code",
   "execution_count": 138,
   "metadata": {},
   "outputs": [
    {
     "output_type": "stream",
     "name": "stdout",
     "text": [
      "[0.0164859  0.00990257 0.         0.04093162 0.26161829 0.26161829\n 0.         0.         0.         0.15322425 0.00330402 0.\n 0.02251627 0.11838201 0.1746249  0.05095346 0.06800285 0.03857242\n 0.07752021 0.0699371  0.22817682 0.11119084 0.07572529 0.06692876\n 0.00800017 0.05052976 0.08640209 0.26161829 0.26161829 0.02307171\n 0.01568133 0.02826122 0.00730382 0.0291453  0.01866014 0.05965252\n 0.01056957 0.01335314 0.00958456 0.03929813 0.21108711 0.14296301\n 0.0537934  0.07720818 0.02066918 0.17379447 0.05958376 0.02380291\n 0.02103786 0.04561073 0.02600312 0.11713057 0.26161829 0.16382385\n 0.01822125 0.00782115 0.02824219 0.15227724 0.26161829 0.1982504\n 0.03845719 0.04488042 0.00570665 0.14426601 0.26161829 0.26161829\n 0.16632083 0.02951912 0.         0.01229589 0.00312846 0.01340451]\n"
     ]
    }
   ],
   "source": [
    "print(tosave[25,:])"
   ]
  },
  {
   "cell_type": "code",
   "execution_count": 139,
   "metadata": {},
   "outputs": [],
   "source": [
    "fileObj = open('./' + filename, 'wb')\n",
    "pickle.dump(tosave, fileObj)"
   ]
  },
  {
   "cell_type": "code",
   "execution_count": 140,
   "metadata": {},
   "outputs": [
    {
     "output_type": "execute_result",
     "data": {
      "text/plain": [
       "array([[0.08865121, 0.03908276, 0.04266275, 0.02193004, 0.0985876 ,\n",
       "        0.04505753, 0.05149832, 0.04057649, 0.07506553, 0.33133469,\n",
       "        0.08177384, 0.15747951, 0.06109288, 0.0507671 , 0.05123695,\n",
       "        0.        , 0.08176088, 0.12664996, 0.13236724, 0.01246605,\n",
       "        0.01459592, 0.02312303, 0.08635383, 0.04736925, 0.02969023,\n",
       "        0.03754305, 0.04599578, 0.33133469, 0.12888973, 0.00552679,\n",
       "        0.01588983, 0.05204059, 0.        , 0.00773644, 0.01496989,\n",
       "        0.13670478, 0.33133469, 0.07582122, 0.029067  , 0.02593306,\n",
       "        0.05725895, 0.03265404, 0.02576514, 0.03069959, 0.05157627,\n",
       "        0.33133469, 0.08518856, 0.00552679, 0.01854749, 0.03793283,\n",
       "        0.00592334, 0.01505464, 0.03623455, 0.05135525, 0.13449043,\n",
       "        0.0940315 , 0.10699521, 0.16413676, 0.27435963, 0.15503402,\n",
       "        0.03335249, 0.07089774, 0.04161869, 0.0852199 , 0.0191071 ,\n",
       "        0.02455312, 0.14106103, 0.33133469, 0.20747629, 0.0374239 ,\n",
       "        0.04960112, 0.08226533]])"
      ]
     },
     "metadata": {},
     "execution_count": 140
    }
   ],
   "source": [
    "tosave[0:1,:]"
   ]
  },
  {
   "cell_type": "code",
   "execution_count": 141,
   "metadata": {},
   "outputs": [
    {
     "output_type": "stream",
     "name": "stdout",
     "text": [
      "1.png\n"
     ]
    },
    {
     "output_type": "execute_result",
     "data": {
      "text/plain": [
       "name      1.png\n",
       "height      219\n",
       "left        246\n",
       "top          77\n",
       "width        81\n",
       "label         1\n",
       "Name: 0, dtype: object"
      ]
     },
     "metadata": {},
     "execution_count": 141
    },
    {
     "output_type": "display_data",
     "data": {
      "text/plain": "<Figure size 432x288 with 1 Axes>",
      "image/svg+xml": "<?xml version=\"1.0\" encoding=\"utf-8\" standalone=\"no\"?>\r\n<!DOCTYPE svg PUBLIC \"-//W3C//DTD SVG 1.1//EN\"\r\n  \"http://www.w3.org/Graphics/SVG/1.1/DTD/svg11.dtd\">\r\n<!-- Created with matplotlib (https://matplotlib.org/) -->\r\n<svg height=\"248.919844pt\" version=\"1.1\" viewBox=\"0 0 142.845 248.919844\" width=\"142.845pt\" xmlns=\"http://www.w3.org/2000/svg\" xmlns:xlink=\"http://www.w3.org/1999/xlink\">\r\n <metadata>\r\n  <rdf:RDF xmlns:cc=\"http://creativecommons.org/ns#\" xmlns:dc=\"http://purl.org/dc/elements/1.1/\" xmlns:rdf=\"http://www.w3.org/1999/02/22-rdf-syntax-ns#\">\r\n   <cc:Work>\r\n    <dc:type rdf:resource=\"http://purl.org/dc/dcmitype/StillImage\"/>\r\n    <dc:date>2020-12-22T18:25:31.482221</dc:date>\r\n    <dc:format>image/svg+xml</dc:format>\r\n    <dc:creator>\r\n     <cc:Agent>\r\n      <dc:title>Matplotlib v3.3.3, https://matplotlib.org/</dc:title>\r\n     </cc:Agent>\r\n    </dc:creator>\r\n   </cc:Work>\r\n  </rdf:RDF>\r\n </metadata>\r\n <defs>\r\n  <style type=\"text/css\">*{stroke-linecap:butt;stroke-linejoin:round;}</style>\r\n </defs>\r\n <g id=\"figure_1\">\r\n  <g id=\"patch_1\">\r\n   <path d=\"M 0 248.919844 \r\nL 142.845 248.919844 \r\nL 142.845 0 \r\nL 0 0 \r\nz\r\n\" style=\"fill:none;\"/>\r\n  </g>\r\n  <g id=\"axes_1\">\r\n   <g id=\"patch_2\">\r\n    <path d=\"M 26.925 225.041719 \r\nL 135.645 225.041719 \r\nL 135.645 7.601719 \r\nL 26.925 7.601719 \r\nz\r\n\" style=\"fill:#ffffff;\"/>\r\n   </g>\r\n   <g clip-path=\"url(#pce545c8be0)\">\r\n    <image height=\"218\" id=\"image7352fbdb56\" transform=\"scale(1 -1)translate(0 -218)\" width=\"109\" x=\"26.925\" xlink:href=\"data:image/png;base64,\r\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\" y=\"-7.041719\"/>\r\n   </g>\r\n   <g id=\"matplotlib.axis_1\">\r\n    <g id=\"xtick_1\">\r\n     <g id=\"line2d_1\">\r\n      <defs>\r\n       <path d=\"M 0 0 \r\nL 0 3.5 \r\n\" id=\"me15f667176\" style=\"stroke:#000000;stroke-width:0.8;\"/>\r\n      </defs>\r\n      <g>\r\n       <use style=\"stroke:#000000;stroke-width:0.8;\" x=\"30.3225\" xlink:href=\"#me15f667176\" y=\"225.041719\"/>\r\n      </g>\r\n     </g>\r\n     <g id=\"text_1\">\r\n      <!-- 0 -->\r\n      <g transform=\"translate(27.14125 239.640156)scale(0.1 -0.1)\">\r\n       <defs>\r\n        <path d=\"M 31.78125 66.40625 \r\nQ 24.171875 66.40625 20.328125 58.90625 \r\nQ 16.5 51.421875 16.5 36.375 \r\nQ 16.5 21.390625 20.328125 13.890625 \r\nQ 24.171875 6.390625 31.78125 6.390625 \r\nQ 39.453125 6.390625 43.28125 13.890625 \r\nQ 47.125 21.390625 47.125 36.375 \r\nQ 47.125 51.421875 43.28125 58.90625 \r\nQ 39.453125 66.40625 31.78125 66.40625 \r\nz\r\nM 31.78125 74.21875 \r\nQ 44.046875 74.21875 50.515625 64.515625 \r\nQ 56.984375 54.828125 56.984375 36.375 \r\nQ 56.984375 17.96875 50.515625 8.265625 \r\nQ 44.046875 -1.421875 31.78125 -1.421875 \r\nQ 19.53125 -1.421875 13.0625 8.265625 \r\nQ 6.59375 17.96875 6.59375 36.375 \r\nQ 6.59375 54.828125 13.0625 64.515625 \r\nQ 19.53125 74.21875 31.78125 74.21875 \r\nz\r\n\" id=\"DejaVuSans-48\"/>\r\n       </defs>\r\n       <use xlink:href=\"#DejaVuSans-48\"/>\r\n      </g>\r\n     </g>\r\n    </g>\r\n    <g id=\"xtick_2\">\r\n     <g id=\"line2d_2\">\r\n      <g>\r\n       <use style=\"stroke:#000000;stroke-width:0.8;\" x=\"98.2725\" xlink:href=\"#me15f667176\" y=\"225.041719\"/>\r\n      </g>\r\n     </g>\r\n     <g id=\"text_2\">\r\n      <!-- 10 -->\r\n      <g transform=\"translate(91.91 239.640156)scale(0.1 -0.1)\">\r\n       <defs>\r\n        <path d=\"M 12.40625 8.296875 \r\nL 28.515625 8.296875 \r\nL 28.515625 63.921875 \r\nL 10.984375 60.40625 \r\nL 10.984375 69.390625 \r\nL 28.421875 72.90625 \r\nL 38.28125 72.90625 \r\nL 38.28125 8.296875 \r\nL 54.390625 8.296875 \r\nL 54.390625 0 \r\nL 12.40625 0 \r\nz\r\n\" id=\"DejaVuSans-49\"/>\r\n       </defs>\r\n       <use xlink:href=\"#DejaVuSans-49\"/>\r\n       <use x=\"63.623047\" xlink:href=\"#DejaVuSans-48\"/>\r\n      </g>\r\n     </g>\r\n    </g>\r\n   </g>\r\n   <g id=\"matplotlib.axis_2\">\r\n    <g id=\"ytick_1\">\r\n     <g id=\"line2d_3\">\r\n      <defs>\r\n       <path d=\"M 0 0 \r\nL -3.5 0 \r\n\" id=\"m6b44ce93a2\" style=\"stroke:#000000;stroke-width:0.8;\"/>\r\n      </defs>\r\n      <g>\r\n       <use style=\"stroke:#000000;stroke-width:0.8;\" x=\"26.925\" xlink:href=\"#m6b44ce93a2\" y=\"10.999219\"/>\r\n      </g>\r\n     </g>\r\n     <g id=\"text_3\">\r\n      <!-- 0 -->\r\n      <g transform=\"translate(13.5625 14.798437)scale(0.1 -0.1)\">\r\n       <use xlink:href=\"#DejaVuSans-48\"/>\r\n      </g>\r\n     </g>\r\n    </g>\r\n    <g id=\"ytick_2\">\r\n     <g id=\"line2d_4\">\r\n      <g>\r\n       <use style=\"stroke:#000000;stroke-width:0.8;\" x=\"26.925\" xlink:href=\"#m6b44ce93a2\" y=\"44.974219\"/>\r\n      </g>\r\n     </g>\r\n     <g id=\"text_4\">\r\n      <!-- 5 -->\r\n      <g transform=\"translate(13.5625 48.773437)scale(0.1 -0.1)\">\r\n       <defs>\r\n        <path d=\"M 10.796875 72.90625 \r\nL 49.515625 72.90625 \r\nL 49.515625 64.59375 \r\nL 19.828125 64.59375 \r\nL 19.828125 46.734375 \r\nQ 21.96875 47.46875 24.109375 47.828125 \r\nQ 26.265625 48.1875 28.421875 48.1875 \r\nQ 40.625 48.1875 47.75 41.5 \r\nQ 54.890625 34.8125 54.890625 23.390625 \r\nQ 54.890625 11.625 47.5625 5.09375 \r\nQ 40.234375 -1.421875 26.90625 -1.421875 \r\nQ 22.3125 -1.421875 17.546875 -0.640625 \r\nQ 12.796875 0.140625 7.71875 1.703125 \r\nL 7.71875 11.625 \r\nQ 12.109375 9.234375 16.796875 8.0625 \r\nQ 21.484375 6.890625 26.703125 6.890625 \r\nQ 35.15625 6.890625 40.078125 11.328125 \r\nQ 45.015625 15.765625 45.015625 23.390625 \r\nQ 45.015625 31 40.078125 35.4375 \r\nQ 35.15625 39.890625 26.703125 39.890625 \r\nQ 22.75 39.890625 18.8125 39.015625 \r\nQ 14.890625 38.140625 10.796875 36.28125 \r\nz\r\n\" id=\"DejaVuSans-53\"/>\r\n       </defs>\r\n       <use xlink:href=\"#DejaVuSans-53\"/>\r\n      </g>\r\n     </g>\r\n    </g>\r\n    <g id=\"ytick_3\">\r\n     <g id=\"line2d_5\">\r\n      <g>\r\n       <use style=\"stroke:#000000;stroke-width:0.8;\" x=\"26.925\" xlink:href=\"#m6b44ce93a2\" y=\"78.949219\"/>\r\n      </g>\r\n     </g>\r\n     <g id=\"text_5\">\r\n      <!-- 10 -->\r\n      <g transform=\"translate(7.2 82.748437)scale(0.1 -0.1)\">\r\n       <use xlink:href=\"#DejaVuSans-49\"/>\r\n       <use x=\"63.623047\" xlink:href=\"#DejaVuSans-48\"/>\r\n      </g>\r\n     </g>\r\n    </g>\r\n    <g id=\"ytick_4\">\r\n     <g id=\"line2d_6\">\r\n      <g>\r\n       <use style=\"stroke:#000000;stroke-width:0.8;\" x=\"26.925\" xlink:href=\"#m6b44ce93a2\" y=\"112.924219\"/>\r\n      </g>\r\n     </g>\r\n     <g id=\"text_6\">\r\n      <!-- 15 -->\r\n      <g transform=\"translate(7.2 116.723437)scale(0.1 -0.1)\">\r\n       <use xlink:href=\"#DejaVuSans-49\"/>\r\n       <use x=\"63.623047\" xlink:href=\"#DejaVuSans-53\"/>\r\n      </g>\r\n     </g>\r\n    </g>\r\n    <g id=\"ytick_5\">\r\n     <g id=\"line2d_7\">\r\n      <g>\r\n       <use style=\"stroke:#000000;stroke-width:0.8;\" x=\"26.925\" xlink:href=\"#m6b44ce93a2\" y=\"146.899219\"/>\r\n      </g>\r\n     </g>\r\n     <g id=\"text_7\">\r\n      <!-- 20 -->\r\n      <g transform=\"translate(7.2 150.698437)scale(0.1 -0.1)\">\r\n       <defs>\r\n        <path d=\"M 19.1875 8.296875 \r\nL 53.609375 8.296875 \r\nL 53.609375 0 \r\nL 7.328125 0 \r\nL 7.328125 8.296875 \r\nQ 12.9375 14.109375 22.625 23.890625 \r\nQ 32.328125 33.6875 34.8125 36.53125 \r\nQ 39.546875 41.84375 41.421875 45.53125 \r\nQ 43.3125 49.21875 43.3125 52.78125 \r\nQ 43.3125 58.59375 39.234375 62.25 \r\nQ 35.15625 65.921875 28.609375 65.921875 \r\nQ 23.96875 65.921875 18.8125 64.3125 \r\nQ 13.671875 62.703125 7.8125 59.421875 \r\nL 7.8125 69.390625 \r\nQ 13.765625 71.78125 18.9375 73 \r\nQ 24.125 74.21875 28.421875 74.21875 \r\nQ 39.75 74.21875 46.484375 68.546875 \r\nQ 53.21875 62.890625 53.21875 53.421875 \r\nQ 53.21875 48.921875 51.53125 44.890625 \r\nQ 49.859375 40.875 45.40625 35.40625 \r\nQ 44.1875 33.984375 37.640625 27.21875 \r\nQ 31.109375 20.453125 19.1875 8.296875 \r\nz\r\n\" id=\"DejaVuSans-50\"/>\r\n       </defs>\r\n       <use xlink:href=\"#DejaVuSans-50\"/>\r\n       <use x=\"63.623047\" xlink:href=\"#DejaVuSans-48\"/>\r\n      </g>\r\n     </g>\r\n    </g>\r\n    <g id=\"ytick_6\">\r\n     <g id=\"line2d_8\">\r\n      <g>\r\n       <use style=\"stroke:#000000;stroke-width:0.8;\" x=\"26.925\" xlink:href=\"#m6b44ce93a2\" y=\"180.874219\"/>\r\n      </g>\r\n     </g>\r\n     <g id=\"text_8\">\r\n      <!-- 25 -->\r\n      <g transform=\"translate(7.2 184.673437)scale(0.1 -0.1)\">\r\n       <use xlink:href=\"#DejaVuSans-50\"/>\r\n       <use x=\"63.623047\" xlink:href=\"#DejaVuSans-53\"/>\r\n      </g>\r\n     </g>\r\n    </g>\r\n    <g id=\"ytick_7\">\r\n     <g id=\"line2d_9\">\r\n      <g>\r\n       <use style=\"stroke:#000000;stroke-width:0.8;\" x=\"26.925\" xlink:href=\"#m6b44ce93a2\" y=\"214.849219\"/>\r\n      </g>\r\n     </g>\r\n     <g id=\"text_9\">\r\n      <!-- 30 -->\r\n      <g transform=\"translate(7.2 218.648437)scale(0.1 -0.1)\">\r\n       <defs>\r\n        <path d=\"M 40.578125 39.3125 \r\nQ 47.65625 37.796875 51.625 33 \r\nQ 55.609375 28.21875 55.609375 21.1875 \r\nQ 55.609375 10.40625 48.1875 4.484375 \r\nQ 40.765625 -1.421875 27.09375 -1.421875 \r\nQ 22.515625 -1.421875 17.65625 -0.515625 \r\nQ 12.796875 0.390625 7.625 2.203125 \r\nL 7.625 11.71875 \r\nQ 11.71875 9.328125 16.59375 8.109375 \r\nQ 21.484375 6.890625 26.8125 6.890625 \r\nQ 36.078125 6.890625 40.9375 10.546875 \r\nQ 45.796875 14.203125 45.796875 21.1875 \r\nQ 45.796875 27.640625 41.28125 31.265625 \r\nQ 36.765625 34.90625 28.71875 34.90625 \r\nL 20.21875 34.90625 \r\nL 20.21875 43.015625 \r\nL 29.109375 43.015625 \r\nQ 36.375 43.015625 40.234375 45.921875 \r\nQ 44.09375 48.828125 44.09375 54.296875 \r\nQ 44.09375 59.90625 40.109375 62.90625 \r\nQ 36.140625 65.921875 28.71875 65.921875 \r\nQ 24.65625 65.921875 20.015625 65.03125 \r\nQ 15.375 64.15625 9.8125 62.3125 \r\nL 9.8125 71.09375 \r\nQ 15.4375 72.65625 20.34375 73.4375 \r\nQ 25.25 74.21875 29.59375 74.21875 \r\nQ 40.828125 74.21875 47.359375 69.109375 \r\nQ 53.90625 64.015625 53.90625 55.328125 \r\nQ 53.90625 49.265625 50.4375 45.09375 \r\nQ 46.96875 40.921875 40.578125 39.3125 \r\nz\r\n\" id=\"DejaVuSans-51\"/>\r\n       </defs>\r\n       <use xlink:href=\"#DejaVuSans-51\"/>\r\n       <use x=\"63.623047\" xlink:href=\"#DejaVuSans-48\"/>\r\n      </g>\r\n     </g>\r\n    </g>\r\n   </g>\r\n   <g id=\"patch_3\">\r\n    <path d=\"M 26.925 225.041719 \r\nL 26.925 7.601719 \r\n\" style=\"fill:none;stroke:#000000;stroke-linecap:square;stroke-linejoin:miter;stroke-width:0.8;\"/>\r\n   </g>\r\n   <g id=\"patch_4\">\r\n    <path d=\"M 135.645 225.041719 \r\nL 135.645 7.601719 \r\n\" style=\"fill:none;stroke:#000000;stroke-linecap:square;stroke-linejoin:miter;stroke-width:0.8;\"/>\r\n   </g>\r\n   <g id=\"patch_5\">\r\n    <path d=\"M 26.925 225.041719 \r\nL 135.645 225.041719 \r\n\" style=\"fill:none;stroke:#000000;stroke-linecap:square;stroke-linejoin:miter;stroke-width:0.8;\"/>\r\n   </g>\r\n   <g id=\"patch_6\">\r\n    <path d=\"M 26.925 7.601719 \r\nL 135.645 7.601719 \r\n\" style=\"fill:none;stroke:#000000;stroke-linecap:square;stroke-linejoin:miter;stroke-width:0.8;\"/>\r\n   </g>\r\n  </g>\r\n </g>\r\n <defs>\r\n  <clipPath id=\"pce545c8be0\">\r\n   <rect height=\"217.44\" width=\"108.72\" x=\"26.925\" y=\"7.601719\"/>\r\n  </clipPath>\r\n </defs>\r\n</svg>\r\n",
      "image/png": "[encoded data removed]"
     },
     "metadata": {
      "needs_background": "light"
     }
    }
   ],
   "source": [
    "index = 0\n",
    "#image = cv2.imread(os.path.join(train_path, labels['name'][index]))\n",
    "todisp = resize_img(get_cropped(labels, index))\n",
    "plt.imshow(todisp)\n",
    "print(labels['name'][index])\n",
    "labels.loc[index]"
   ]
  },
  {
   "cell_type": "code",
   "execution_count": 142,
   "metadata": {},
   "outputs": [
    {
     "output_type": "execute_result",
     "data": {
      "text/plain": [
       "(32, 16, 3)"
      ]
     },
     "metadata": {},
     "execution_count": 142
    }
   ],
   "source": [
    "todisp.shape"
   ]
  },
  {
   "cell_type": "code",
   "execution_count": 143,
   "metadata": {},
   "outputs": [],
   "source": [
    "des , hogim = hog(todisp, pixels_per_cell = (8,8), cells_per_block = (4,2), visualize = True)\n"
   ]
  },
  {
   "cell_type": "code",
   "execution_count": 144,
   "metadata": {},
   "outputs": [
    {
     "output_type": "execute_result",
     "data": {
      "text/plain": [
       "(72,)"
      ]
     },
     "metadata": {},
     "execution_count": 144
    }
   ],
   "source": [
    "des.shape"
   ]
  },
  {
   "cell_type": "code",
   "execution_count": 145,
   "metadata": {},
   "outputs": [
    {
     "output_type": "execute_result",
     "data": {
      "text/plain": [
       "<matplotlib.image.AxesImage at 0x1c58272f100>"
      ]
     },
     "metadata": {},
     "execution_count": 145
    },
    {
     "output_type": "display_data",
     "data": {
      "text/plain": "<Figure size 432x288 with 1 Axes>",
      "image/svg+xml": "<?xml version=\"1.0\" encoding=\"utf-8\" standalone=\"no\"?>\r\n<!DOCTYPE svg PUBLIC \"-//W3C//DTD SVG 1.1//EN\"\r\n  \"http://www.w3.org/Graphics/SVG/1.1/DTD/svg11.dtd\">\r\n<!-- Created with matplotlib (https://matplotlib.org/) -->\r\n<svg height=\"248.919844pt\" version=\"1.1\" viewBox=\"0 0 142.845 248.919844\" width=\"142.845pt\" xmlns=\"http://www.w3.org/2000/svg\" xmlns:xlink=\"http://www.w3.org/1999/xlink\">\r\n <metadata>\r\n  <rdf:RDF xmlns:cc=\"http://creativecommons.org/ns#\" xmlns:dc=\"http://purl.org/dc/elements/1.1/\" xmlns:rdf=\"http://www.w3.org/1999/02/22-rdf-syntax-ns#\">\r\n   <cc:Work>\r\n    <dc:type rdf:resource=\"http://purl.org/dc/dcmitype/StillImage\"/>\r\n    <dc:date>2020-12-22T18:25:31.894234</dc:date>\r\n    <dc:format>image/svg+xml</dc:format>\r\n    <dc:creator>\r\n     <cc:Agent>\r\n      <dc:title>Matplotlib v3.3.3, https://matplotlib.org/</dc:title>\r\n     </cc:Agent>\r\n    </dc:creator>\r\n   </cc:Work>\r\n  </rdf:RDF>\r\n </metadata>\r\n <defs>\r\n  <style type=\"text/css\">*{stroke-linecap:butt;stroke-linejoin:round;}</style>\r\n </defs>\r\n <g id=\"figure_1\">\r\n  <g id=\"patch_1\">\r\n   <path d=\"M 0 248.919844 \r\nL 142.845 248.919844 \r\nL 142.845 0 \r\nL 0 0 \r\nz\r\n\" style=\"fill:none;\"/>\r\n  </g>\r\n  <g id=\"axes_1\">\r\n   <g id=\"patch_2\">\r\n    <path d=\"M 26.925 225.041719 \r\nL 135.645 225.041719 \r\nL 135.645 7.601719 \r\nL 26.925 7.601719 \r\nz\r\n\" style=\"fill:#ffffff;\"/>\r\n   </g>\r\n   <g clip-path=\"url(#pf30cd4e2cf)\">\r\n    <image height=\"218\" id=\"imagefed83c3e35\" transform=\"scale(1 -1)translate(0 -218)\" width=\"109\" x=\"26.925\" xlink:href=\"data:image/png;base64,\r\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\" y=\"-7.041719\"/>\r\n   </g>\r\n   <g id=\"matplotlib.axis_1\">\r\n    <g id=\"xtick_1\">\r\n     <g id=\"line2d_1\">\r\n      <defs>\r\n       <path d=\"M 0 0 \r\nL 0 3.5 \r\n\" id=\"mc5f61f5194\" style=\"stroke:#000000;stroke-width:0.8;\"/>\r\n      </defs>\r\n      <g>\r\n       <use style=\"stroke:#000000;stroke-width:0.8;\" x=\"30.3225\" xlink:href=\"#mc5f61f5194\" y=\"225.041719\"/>\r\n      </g>\r\n     </g>\r\n     <g id=\"text_1\">\r\n      <!-- 0 -->\r\n      <g transform=\"translate(27.14125 239.640156)scale(0.1 -0.1)\">\r\n       <defs>\r\n        <path d=\"M 31.78125 66.40625 \r\nQ 24.171875 66.40625 20.328125 58.90625 \r\nQ 16.5 51.421875 16.5 36.375 \r\nQ 16.5 21.390625 20.328125 13.890625 \r\nQ 24.171875 6.390625 31.78125 6.390625 \r\nQ 39.453125 6.390625 43.28125 13.890625 \r\nQ 47.125 21.390625 47.125 36.375 \r\nQ 47.125 51.421875 43.28125 58.90625 \r\nQ 39.453125 66.40625 31.78125 66.40625 \r\nz\r\nM 31.78125 74.21875 \r\nQ 44.046875 74.21875 50.515625 64.515625 \r\nQ 56.984375 54.828125 56.984375 36.375 \r\nQ 56.984375 17.96875 50.515625 8.265625 \r\nQ 44.046875 -1.421875 31.78125 -1.421875 \r\nQ 19.53125 -1.421875 13.0625 8.265625 \r\nQ 6.59375 17.96875 6.59375 36.375 \r\nQ 6.59375 54.828125 13.0625 64.515625 \r\nQ 19.53125 74.21875 31.78125 74.21875 \r\nz\r\n\" id=\"DejaVuSans-48\"/>\r\n       </defs>\r\n       <use xlink:href=\"#DejaVuSans-48\"/>\r\n      </g>\r\n     </g>\r\n    </g>\r\n    <g id=\"xtick_2\">\r\n     <g id=\"line2d_2\">\r\n      <g>\r\n       <use style=\"stroke:#000000;stroke-width:0.8;\" x=\"98.2725\" xlink:href=\"#mc5f61f5194\" y=\"225.041719\"/>\r\n      </g>\r\n     </g>\r\n     <g id=\"text_2\">\r\n      <!-- 10 -->\r\n      <g transform=\"translate(91.91 239.640156)scale(0.1 -0.1)\">\r\n       <defs>\r\n        <path d=\"M 12.40625 8.296875 \r\nL 28.515625 8.296875 \r\nL 28.515625 63.921875 \r\nL 10.984375 60.40625 \r\nL 10.984375 69.390625 \r\nL 28.421875 72.90625 \r\nL 38.28125 72.90625 \r\nL 38.28125 8.296875 \r\nL 54.390625 8.296875 \r\nL 54.390625 0 \r\nL 12.40625 0 \r\nz\r\n\" id=\"DejaVuSans-49\"/>\r\n       </defs>\r\n       <use xlink:href=\"#DejaVuSans-49\"/>\r\n       <use x=\"63.623047\" xlink:href=\"#DejaVuSans-48\"/>\r\n      </g>\r\n     </g>\r\n    </g>\r\n   </g>\r\n   <g id=\"matplotlib.axis_2\">\r\n    <g id=\"ytick_1\">\r\n     <g id=\"line2d_3\">\r\n      <defs>\r\n       <path d=\"M 0 0 \r\nL -3.5 0 \r\n\" id=\"mdbed1bffda\" style=\"stroke:#000000;stroke-width:0.8;\"/>\r\n      </defs>\r\n      <g>\r\n       <use style=\"stroke:#000000;stroke-width:0.8;\" x=\"26.925\" xlink:href=\"#mdbed1bffda\" y=\"10.999219\"/>\r\n      </g>\r\n     </g>\r\n     <g id=\"text_3\">\r\n      <!-- 0 -->\r\n      <g transform=\"translate(13.5625 14.798437)scale(0.1 -0.1)\">\r\n       <use xlink:href=\"#DejaVuSans-48\"/>\r\n      </g>\r\n     </g>\r\n    </g>\r\n    <g id=\"ytick_2\">\r\n     <g id=\"line2d_4\">\r\n      <g>\r\n       <use style=\"stroke:#000000;stroke-width:0.8;\" x=\"26.925\" xlink:href=\"#mdbed1bffda\" y=\"44.974219\"/>\r\n      </g>\r\n     </g>\r\n     <g id=\"text_4\">\r\n      <!-- 5 -->\r\n      <g transform=\"translate(13.5625 48.773437)scale(0.1 -0.1)\">\r\n       <defs>\r\n        <path d=\"M 10.796875 72.90625 \r\nL 49.515625 72.90625 \r\nL 49.515625 64.59375 \r\nL 19.828125 64.59375 \r\nL 19.828125 46.734375 \r\nQ 21.96875 47.46875 24.109375 47.828125 \r\nQ 26.265625 48.1875 28.421875 48.1875 \r\nQ 40.625 48.1875 47.75 41.5 \r\nQ 54.890625 34.8125 54.890625 23.390625 \r\nQ 54.890625 11.625 47.5625 5.09375 \r\nQ 40.234375 -1.421875 26.90625 -1.421875 \r\nQ 22.3125 -1.421875 17.546875 -0.640625 \r\nQ 12.796875 0.140625 7.71875 1.703125 \r\nL 7.71875 11.625 \r\nQ 12.109375 9.234375 16.796875 8.0625 \r\nQ 21.484375 6.890625 26.703125 6.890625 \r\nQ 35.15625 6.890625 40.078125 11.328125 \r\nQ 45.015625 15.765625 45.015625 23.390625 \r\nQ 45.015625 31 40.078125 35.4375 \r\nQ 35.15625 39.890625 26.703125 39.890625 \r\nQ 22.75 39.890625 18.8125 39.015625 \r\nQ 14.890625 38.140625 10.796875 36.28125 \r\nz\r\n\" id=\"DejaVuSans-53\"/>\r\n       </defs>\r\n       <use xlink:href=\"#DejaVuSans-53\"/>\r\n      </g>\r\n     </g>\r\n    </g>\r\n    <g id=\"ytick_3\">\r\n     <g id=\"line2d_5\">\r\n      <g>\r\n       <use style=\"stroke:#000000;stroke-width:0.8;\" x=\"26.925\" xlink:href=\"#mdbed1bffda\" y=\"78.949219\"/>\r\n      </g>\r\n     </g>\r\n     <g id=\"text_5\">\r\n      <!-- 10 -->\r\n      <g transform=\"translate(7.2 82.748437)scale(0.1 -0.1)\">\r\n       <use xlink:href=\"#DejaVuSans-49\"/>\r\n       <use x=\"63.623047\" xlink:href=\"#DejaVuSans-48\"/>\r\n      </g>\r\n     </g>\r\n    </g>\r\n    <g id=\"ytick_4\">\r\n     <g id=\"line2d_6\">\r\n      <g>\r\n       <use style=\"stroke:#000000;stroke-width:0.8;\" x=\"26.925\" xlink:href=\"#mdbed1bffda\" y=\"112.924219\"/>\r\n      </g>\r\n     </g>\r\n     <g id=\"text_6\">\r\n      <!-- 15 -->\r\n      <g transform=\"translate(7.2 116.723437)scale(0.1 -0.1)\">\r\n       <use xlink:href=\"#DejaVuSans-49\"/>\r\n       <use x=\"63.623047\" xlink:href=\"#DejaVuSans-53\"/>\r\n      </g>\r\n     </g>\r\n    </g>\r\n    <g id=\"ytick_5\">\r\n     <g id=\"line2d_7\">\r\n      <g>\r\n       <use style=\"stroke:#000000;stroke-width:0.8;\" x=\"26.925\" xlink:href=\"#mdbed1bffda\" y=\"146.899219\"/>\r\n      </g>\r\n     </g>\r\n     <g id=\"text_7\">\r\n      <!-- 20 -->\r\n      <g transform=\"translate(7.2 150.698437)scale(0.1 -0.1)\">\r\n       <defs>\r\n        <path d=\"M 19.1875 8.296875 \r\nL 53.609375 8.296875 \r\nL 53.609375 0 \r\nL 7.328125 0 \r\nL 7.328125 8.296875 \r\nQ 12.9375 14.109375 22.625 23.890625 \r\nQ 32.328125 33.6875 34.8125 36.53125 \r\nQ 39.546875 41.84375 41.421875 45.53125 \r\nQ 43.3125 49.21875 43.3125 52.78125 \r\nQ 43.3125 58.59375 39.234375 62.25 \r\nQ 35.15625 65.921875 28.609375 65.921875 \r\nQ 23.96875 65.921875 18.8125 64.3125 \r\nQ 13.671875 62.703125 7.8125 59.421875 \r\nL 7.8125 69.390625 \r\nQ 13.765625 71.78125 18.9375 73 \r\nQ 24.125 74.21875 28.421875 74.21875 \r\nQ 39.75 74.21875 46.484375 68.546875 \r\nQ 53.21875 62.890625 53.21875 53.421875 \r\nQ 53.21875 48.921875 51.53125 44.890625 \r\nQ 49.859375 40.875 45.40625 35.40625 \r\nQ 44.1875 33.984375 37.640625 27.21875 \r\nQ 31.109375 20.453125 19.1875 8.296875 \r\nz\r\n\" id=\"DejaVuSans-50\"/>\r\n       </defs>\r\n       <use xlink:href=\"#DejaVuSans-50\"/>\r\n       <use x=\"63.623047\" xlink:href=\"#DejaVuSans-48\"/>\r\n      </g>\r\n     </g>\r\n    </g>\r\n    <g id=\"ytick_6\">\r\n     <g id=\"line2d_8\">\r\n      <g>\r\n       <use style=\"stroke:#000000;stroke-width:0.8;\" x=\"26.925\" xlink:href=\"#mdbed1bffda\" y=\"180.874219\"/>\r\n      </g>\r\n     </g>\r\n     <g id=\"text_8\">\r\n      <!-- 25 -->\r\n      <g transform=\"translate(7.2 184.673437)scale(0.1 -0.1)\">\r\n       <use xlink:href=\"#DejaVuSans-50\"/>\r\n       <use x=\"63.623047\" xlink:href=\"#DejaVuSans-53\"/>\r\n      </g>\r\n     </g>\r\n    </g>\r\n    <g id=\"ytick_7\">\r\n     <g id=\"line2d_9\">\r\n      <g>\r\n       <use style=\"stroke:#000000;stroke-width:0.8;\" x=\"26.925\" xlink:href=\"#mdbed1bffda\" y=\"214.849219\"/>\r\n      </g>\r\n     </g>\r\n     <g id=\"text_9\">\r\n      <!-- 30 -->\r\n      <g transform=\"translate(7.2 218.648437)scale(0.1 -0.1)\">\r\n       <defs>\r\n        <path d=\"M 40.578125 39.3125 \r\nQ 47.65625 37.796875 51.625 33 \r\nQ 55.609375 28.21875 55.609375 21.1875 \r\nQ 55.609375 10.40625 48.1875 4.484375 \r\nQ 40.765625 -1.421875 27.09375 -1.421875 \r\nQ 22.515625 -1.421875 17.65625 -0.515625 \r\nQ 12.796875 0.390625 7.625 2.203125 \r\nL 7.625 11.71875 \r\nQ 11.71875 9.328125 16.59375 8.109375 \r\nQ 21.484375 6.890625 26.8125 6.890625 \r\nQ 36.078125 6.890625 40.9375 10.546875 \r\nQ 45.796875 14.203125 45.796875 21.1875 \r\nQ 45.796875 27.640625 41.28125 31.265625 \r\nQ 36.765625 34.90625 28.71875 34.90625 \r\nL 20.21875 34.90625 \r\nL 20.21875 43.015625 \r\nL 29.109375 43.015625 \r\nQ 36.375 43.015625 40.234375 45.921875 \r\nQ 44.09375 48.828125 44.09375 54.296875 \r\nQ 44.09375 59.90625 40.109375 62.90625 \r\nQ 36.140625 65.921875 28.71875 65.921875 \r\nQ 24.65625 65.921875 20.015625 65.03125 \r\nQ 15.375 64.15625 9.8125 62.3125 \r\nL 9.8125 71.09375 \r\nQ 15.4375 72.65625 20.34375 73.4375 \r\nQ 25.25 74.21875 29.59375 74.21875 \r\nQ 40.828125 74.21875 47.359375 69.109375 \r\nQ 53.90625 64.015625 53.90625 55.328125 \r\nQ 53.90625 49.265625 50.4375 45.09375 \r\nQ 46.96875 40.921875 40.578125 39.3125 \r\nz\r\n\" id=\"DejaVuSans-51\"/>\r\n       </defs>\r\n       <use xlink:href=\"#DejaVuSans-51\"/>\r\n       <use x=\"63.623047\" xlink:href=\"#DejaVuSans-48\"/>\r\n      </g>\r\n     </g>\r\n    </g>\r\n   </g>\r\n   <g id=\"patch_3\">\r\n    <path d=\"M 26.925 225.041719 \r\nL 26.925 7.601719 \r\n\" style=\"fill:none;stroke:#000000;stroke-linecap:square;stroke-linejoin:miter;stroke-width:0.8;\"/>\r\n   </g>\r\n   <g id=\"patch_4\">\r\n    <path d=\"M 135.645 225.041719 \r\nL 135.645 7.601719 \r\n\" style=\"fill:none;stroke:#000000;stroke-linecap:square;stroke-linejoin:miter;stroke-width:0.8;\"/>\r\n   </g>\r\n   <g id=\"patch_5\">\r\n    <path d=\"M 26.925 225.041719 \r\nL 135.645 225.041719 \r\n\" style=\"fill:none;stroke:#000000;stroke-linecap:square;stroke-linejoin:miter;stroke-width:0.8;\"/>\r\n   </g>\r\n   <g id=\"patch_6\">\r\n    <path d=\"M 26.925 7.601719 \r\nL 135.645 7.601719 \r\n\" style=\"fill:none;stroke:#000000;stroke-linecap:square;stroke-linejoin:miter;stroke-width:0.8;\"/>\r\n   </g>\r\n  </g>\r\n </g>\r\n <defs>\r\n  <clipPath id=\"pf30cd4e2cf\">\r\n   <rect height=\"217.44\" width=\"108.72\" x=\"26.925\" y=\"7.601719\"/>\r\n  </clipPath>\r\n </defs>\r\n</svg>\r\n",
      "image/png": "[encoded data removed]"
     },
     "metadata": {
      "needs_background": "light"
     }
    }
   ],
   "source": [
    "plt.imshow(hogim, cmap = 'gray')"
   ]
  },
  {
   "cell_type": "code",
   "execution_count": 145,
   "metadata": {
    "tags": []
   },
   "outputs": [],
   "source": [
    "\n"
   ]
  },
  {
   "cell_type": "code",
   "execution_count": null,
   "metadata": {},
   "outputs": [],
   "source": []
  }
 ]
}