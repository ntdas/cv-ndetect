{
 "cells": [
  {
   "cell_type": "code",
   "execution_count": 1,
   "metadata": {},
   "outputs": [],
   "source": [
    "import numpy as np \n",
    "import pandas as pd\n",
    "import os\n",
    "import matplotlib.pyplot as plt\n",
    "import cv2\n",
    "from skimage.feature import hog\n",
    "import pickle\n",
    "from tqdm import tqdm\n",
    "from imp import reload"
   ]
  },
  {
   "cell_type": "code",
   "execution_count": 6,
   "metadata": {},
   "outputs": [],
   "source": [
    "import hn_detect\n",
    "reload(hn_detect)\n",
    "import hn_detect"
   ]
  },
  {
   "cell_type": "code",
   "execution_count": 3,
   "metadata": {},
   "outputs": [],
   "source": [
    "# Load training set label\n",
    "labels = pd.read_csv('./train_label.csv')"
   ]
  },
  {
   "cell_type": "code",
   "execution_count": 4,
   "metadata": {},
   "outputs": [
    {
     "data": {
      "text/html": [
       "<div>\n",
       "<style scoped>\n",
       "    .dataframe tbody tr th:only-of-type {\n",
       "        vertical-align: middle;\n",
       "    }\n",
       "\n",
       "    .dataframe tbody tr th {\n",
       "        vertical-align: top;\n",
       "    }\n",
       "\n",
       "    .dataframe thead th {\n",
       "        text-align: right;\n",
       "    }\n",
       "</style>\n",
       "<table border=\"1\" class=\"dataframe\">\n",
       "  <thead>\n",
       "    <tr style=\"text-align: right;\">\n",
       "      <th></th>\n",
       "      <th>name</th>\n",
       "      <th>height</th>\n",
       "      <th>left</th>\n",
       "      <th>top</th>\n",
       "      <th>width</th>\n",
       "      <th>label</th>\n",
       "    </tr>\n",
       "  </thead>\n",
       "  <tbody>\n",
       "    <tr>\n",
       "      <th>0</th>\n",
       "      <td>1.png</td>\n",
       "      <td>219</td>\n",
       "      <td>246</td>\n",
       "      <td>77</td>\n",
       "      <td>81</td>\n",
       "      <td>1</td>\n",
       "    </tr>\n",
       "    <tr>\n",
       "      <th>1</th>\n",
       "      <td>1.png</td>\n",
       "      <td>219</td>\n",
       "      <td>323</td>\n",
       "      <td>81</td>\n",
       "      <td>96</td>\n",
       "      <td>9</td>\n",
       "    </tr>\n",
       "    <tr>\n",
       "      <th>2</th>\n",
       "      <td>2.png</td>\n",
       "      <td>32</td>\n",
       "      <td>77</td>\n",
       "      <td>29</td>\n",
       "      <td>23</td>\n",
       "      <td>2</td>\n",
       "    </tr>\n",
       "    <tr>\n",
       "      <th>3</th>\n",
       "      <td>2.png</td>\n",
       "      <td>32</td>\n",
       "      <td>98</td>\n",
       "      <td>25</td>\n",
       "      <td>26</td>\n",
       "      <td>3</td>\n",
       "    </tr>\n",
       "    <tr>\n",
       "      <th>4</th>\n",
       "      <td>3.png</td>\n",
       "      <td>15</td>\n",
       "      <td>17</td>\n",
       "      <td>5</td>\n",
       "      <td>8</td>\n",
       "      <td>2</td>\n",
       "    </tr>\n",
       "  </tbody>\n",
       "</table>\n",
       "</div>"
      ],
      "text/plain": [
       "    name  height  left  top  width  label\n",
       "0  1.png     219   246   77     81      1\n",
       "1  1.png     219   323   81     96      9\n",
       "2  2.png      32    77   29     23      2\n",
       "3  2.png      32    98   25     26      3\n",
       "4  3.png      15    17    5      8      2"
      ]
     },
     "execution_count": 4,
     "metadata": {},
     "output_type": "execute_result"
    }
   ],
   "source": [
    "labels.head()"
   ]
  },
  {
   "cell_type": "code",
   "execution_count": 5,
   "metadata": {},
   "outputs": [],
   "source": [
    "# Get name of all images in training set\n",
    "train_path = '../data/train/'\n",
    "train_images = os.listdir(train_path)"
   ]
  },
  {
   "cell_type": "code",
   "execution_count": 10,
   "metadata": {},
   "outputs": [],
   "source": [
    "def get_cropped(labels, i, option =0):\n",
    "    \"\"\"\n",
    "    Get number bouding box in a image.\n",
    "    \"\"\"\n",
    "    image = hn_detect.pre_process(train_path, labels['name'][i])\n",
    "    \n",
    "    # Check if left position is < 0\n",
    "    x1 = labels['top'][i]\n",
    "    if (x1 < 0): \n",
    "        return None\n",
    "    \n",
    "    x2 = x1 + labels['height'][i]\n",
    "    \n",
    "    # Check if top position is < 0\n",
    "    y1 = labels['left'][i]\n",
    "    if (y1 < 0): \n",
    "        return None\n",
    "    \n",
    "    y2 = y1 + labels['width'][i]\n",
    "    \n",
    "    # Get number bounding box\n",
    "    cropimg = image[x1:x2,y1:y2]\n",
    "    \n",
    "    # Check if bounding box is too small\n",
    "    if (option == 0): #16x32\n",
    "        if (((x2-x1) < 32 ) or ((y2-y1)<16)):\n",
    "            #print('return NONE')\n",
    "            return None\n",
    "    elif(option == 1): #16x8\n",
    "        if (((x2-x1) < 16 ) or ((y2-y1)<8)):\n",
    "            #print('return NONE')\n",
    "            return None\n",
    "    return cropimg"
   ]
  },
  {
   "cell_type": "code",
   "execution_count": 8,
   "metadata": {},
   "outputs": [],
   "source": [
    "def resize_img(img, option = 0):\n",
    "    \"\"\"\n",
    "    Resize image to a fixed size\n",
    "    \"\"\"\n",
    "    #option 0: 16x32\n",
    "    #option 1: 8x16\n",
    "    if option == 0:\n",
    "        dim = (16,32)\n",
    "    elif option == 1:\n",
    "        dim = (8,16)\n",
    "    #print(img.shape)\n",
    "    img_resized = cv2.resize(img, dim, interpolation = cv2.INTER_AREA)\n",
    "    return img_resized\n"
   ]
  },
  {
   "cell_type": "code",
   "execution_count": 17,
   "metadata": {
    "tags": []
   },
   "outputs": [
    {
     "name": "stderr",
     "output_type": "stream",
     "text": [
      "100%|██████████| 145560/145560 [05:14<00:00, 462.69it/s]\n"
     ]
    }
   ],
   "source": [
    "filename = 'HOG_16x32'\n",
    "\n",
    "# Number of HOG feature\n",
    "num_desc = 756\n",
    "\n",
    "# Initialize\n",
    "tosave = np.zeros((len(labels), num_desc))\n",
    "count = 0\n",
    "\n",
    "# For all number in training set\n",
    "for i in tqdm(range(len(labels))):\n",
    "    # Get bounding box\n",
    "    I = get_cropped(labels, i)\n",
    "    if (I is None):\n",
    "        count = count+1\n",
    "        continue\n",
    "    \n",
    "    # Resize bounding box\n",
    "    I = resize_img(I, option =0)\n",
    "    \n",
    "    # Get bounding box HOG feature\n",
    "    desc= hog(I, orientations=9, pixels_per_cell = (4,4), cells_per_block = (2,2))\n",
    "    tosave[i,:] = desc\n"
   ]
  },
  {
   "cell_type": "code",
   "execution_count": 19,
   "metadata": {},
   "outputs": [
    {
     "name": "stdout",
     "output_type": "stream",
     "text": [
      "(145560, 756)\n",
      "70288\n"
     ]
    }
   ],
   "source": [
    "print(tosave.shape)\n",
    "print(count)"
   ]
  },
  {
   "cell_type": "code",
   "execution_count": 20,
   "metadata": {
    "tags": []
   },
   "outputs": [
    {
     "name": "stderr",
     "output_type": "stream",
     "text": [
      "100%|██████████| 145560/145560 [3:23:01<00:00, 11.95it/s](56905632,)\n",
      "\n"
     ]
    }
   ],
   "source": [
    "# Initialize\n",
    "tosavenew = np.array([])\n",
    "\n",
    "# Remove too small bounding boxes\n",
    "for i in tqdm(range(len(labels))):\n",
    "    if np.all(tosave[i,:] == np.zeros(num_desc)):\n",
    "        continue\n",
    "    tosavenew = np.append(tosavenew, tosave[i,:])\n",
    "print(tosavenew.shape)\n",
    "tosavenew = tosavenew.reshape(-1,num_desc)"
   ]
  },
  {
   "cell_type": "code",
   "execution_count": 22,
   "metadata": {},
   "outputs": [
    {
     "data": {
      "text/plain": [
       "(75272, 756)"
      ]
     },
     "execution_count": 22,
     "metadata": {},
     "output_type": "execute_result"
    }
   ],
   "source": [
    "tosavenew.shape"
   ]
  },
  {
   "cell_type": "code",
   "execution_count": 23,
   "metadata": {},
   "outputs": [],
   "source": [
    "# Save data\n",
    "fileObj = open('./16x32/' + filename, 'wb')\n",
    "pickle.dump(tosavenew, fileObj)\n",
    "fileObj.close()"
   ]
  },
  {
   "cell_type": "code",
   "execution_count": null,
   "metadata": {},
   "outputs": [],
   "source": []
  }
 ],
 "metadata": {
  "kernelspec": {
   "display_name": "Python 3",
   "language": "python",
   "name": "python3"
  },
  "language_info": {
   "codemirror_mode": {
    "name": "ipython",
    "version": 3
   },
   "file_extension": ".py",
   "mimetype": "text/x-python",
   "name": "python",
   "nbconvert_exporter": "python",
   "pygments_lexer": "ipython3",
   "version": "3.8.3"
  }
 },
 "nbformat": 4,
 "nbformat_minor": 4
}
