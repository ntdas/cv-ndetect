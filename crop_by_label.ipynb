{
 "metadata": {
  "language_info": {
   "codemirror_mode": {
    "name": "ipython",
    "version": 3
   },
   "file_extension": ".py",
   "mimetype": "text/x-python",
   "name": "python",
   "nbconvert_exporter": "python",
   "pygments_lexer": "ipython3",
   "version": "3.8.6-final"
  },
  "orig_nbformat": 2,
  "kernelspec": {
   "name": "python3",
   "display_name": "Python 3.8.6 64-bit",
   "metadata": {
    "interpreter": {
     "hash": "bb61456b3119196e7f08b1421852d89636b24dd89abf0f8981352741d61049f9"
    }
   }
  }
 },
 "nbformat": 4,
 "nbformat_minor": 2,
 "cells": [
  {
   "cell_type": "code",
   "execution_count": 16,
   "metadata": {},
   "outputs": [],
   "source": [
    "import numpy as np \n",
    "import pandas as pd\n",
    "import os\n",
    "import matplotlib.pyplot as plt\n",
    "import cv2\n",
    "from skimage.feature import hog\n",
    "import pickle\n",
    "from tqdm import tqdm"
   ]
  },
  {
   "cell_type": "code",
   "execution_count": 17,
   "metadata": {},
   "outputs": [],
   "source": [
    "labels = pd.read_csv('./train_label.csv')"
   ]
  },
  {
   "cell_type": "code",
   "execution_count": 18,
   "metadata": {},
   "outputs": [
    {
     "output_type": "execute_result",
     "data": {
      "text/plain": [
       "    name  height  left  top  width  label\n",
       "0  1.png     219   246   77     81      1\n",
       "1  1.png     219   323   81     96      9\n",
       "2  2.png      32    77   29     23      2\n",
       "3  2.png      32    98   25     26      3\n",
       "4  3.png      15    17    5      8      2"
      ],
      "text/html": "<div>\n<style scoped>\n    .dataframe tbody tr th:only-of-type {\n        vertical-align: middle;\n    }\n\n    .dataframe tbody tr th {\n        vertical-align: top;\n    }\n\n    .dataframe thead th {\n        text-align: right;\n    }\n</style>\n<table border=\"1\" class=\"dataframe\">\n  <thead>\n    <tr style=\"text-align: right;\">\n      <th></th>\n      <th>name</th>\n      <th>height</th>\n      <th>left</th>\n      <th>top</th>\n      <th>width</th>\n      <th>label</th>\n    </tr>\n  </thead>\n  <tbody>\n    <tr>\n      <th>0</th>\n      <td>1.png</td>\n      <td>219</td>\n      <td>246</td>\n      <td>77</td>\n      <td>81</td>\n      <td>1</td>\n    </tr>\n    <tr>\n      <th>1</th>\n      <td>1.png</td>\n      <td>219</td>\n      <td>323</td>\n      <td>81</td>\n      <td>96</td>\n      <td>9</td>\n    </tr>\n    <tr>\n      <th>2</th>\n      <td>2.png</td>\n      <td>32</td>\n      <td>77</td>\n      <td>29</td>\n      <td>23</td>\n      <td>2</td>\n    </tr>\n    <tr>\n      <th>3</th>\n      <td>2.png</td>\n      <td>32</td>\n      <td>98</td>\n      <td>25</td>\n      <td>26</td>\n      <td>3</td>\n    </tr>\n    <tr>\n      <th>4</th>\n      <td>3.png</td>\n      <td>15</td>\n      <td>17</td>\n      <td>5</td>\n      <td>8</td>\n      <td>2</td>\n    </tr>\n  </tbody>\n</table>\n</div>"
     },
     "metadata": {},
     "execution_count": 18
    }
   ],
   "source": [
    "labels.head()"
   ]
  },
  {
   "cell_type": "code",
   "execution_count": 19,
   "metadata": {},
   "outputs": [],
   "source": [
    "train_path = '../data/train/' #### TO BE CHANGEDDDDD\n",
    "train_images = os.listdir(train_path)"
   ]
  },
  {
   "cell_type": "code",
   "execution_count": null,
   "metadata": {},
   "outputs": [],
   "source": []
  },
  {
   "cell_type": "code",
   "execution_count": 20,
   "metadata": {},
   "outputs": [],
   "source": [
    "kernel = np.array([[0,-1,0], [-1,5,-1], [0,-1,0]], np.float32)\n",
    "def pre_process(path,name, factor=1.3):\n",
    "    \"\"\"\n",
    "    Preprocess image: RGB image --> Gray image --> Blur image (reduce noise) --> High Pass Filter (sharpen)         --> Constrast Limited Adaptive Histogram Equalization --> Exposure\n",
    "    @INPUT:\n",
    "        - path: image path\n",
    "        - name: image name\n",
    "        - factor: exposure factor\n",
    "    @OUTPUT:\n",
    "        - imgAHE: preprocessed image\n",
    "    \"\"\"\n",
    "\n",
    "    img = cv2.imread(os.path.join(path, name))\n",
    "\n",
    "    imgGray = cv2.cvtColor(img, cv2.COLOR_BGR2GRAY) # convert to gray image\n",
    "\n",
    "    imgBlur = cv2.GaussianBlur(imgGray, (3,3), 0)   # reduce noise\n",
    "\n",
    "    imgH = cv2.filter2D(imgBlur, -1, kernel)        # sharpen\n",
    "\n",
    "    AHE = cv2.createCLAHE(clipLimit=2.0, tileGridSize=(8,8))# Contrast Limited Adaptive Histogram Equalization \n",
    "    imgAHE = AHE.apply(imgH)\n",
    "    imgAHE = np.array(imgAHE)\n",
    "\n",
    "    img_processed = imgAHE*factor   # exposure\n",
    "\n",
    "    return img_processed"
   ]
  },
  {
   "cell_type": "code",
   "execution_count": 21,
   "metadata": {},
   "outputs": [],
   "source": [
    "def get_cropped(path,labels, i):\n",
    "    #image = cv2.imread(os.path.join(train_path, labels['name'][i]))\n",
    "    image = pre_process(path, labels['name'][i])\n",
    "    x1 = labels['top'][i]\n",
    "    if (x1 < 0): \n",
    "        x1 = 0\n",
    "    x2 = x1 + labels['height'][i]\n",
    "    #if x2 < 0: x2 = 0\n",
    "    y1 = labels['left'][i]\n",
    "    if (y1 < 0): \n",
    "        y1 = 0\n",
    "    y2 = y1 + labels['width'][i]\n",
    "    #if y2 < 0: y2 = 0\n",
    "    cropimg = image[x1:x2,y1:y2]\n",
    "    \n",
    "    return cropimg"
   ]
  },
  {
   "cell_type": "code",
   "execution_count": 22,
   "metadata": {},
   "outputs": [],
   "source": [
    "def resize_img(img, option = 0):\r\n",
    "    #option 0: 16x32\r\n",
    "    #option 1: 8x16\r\n",
    "    if option == 0:\r\n",
    "        dim = (16,32)\r\n",
    "    elif option == 1:\r\n",
    "        dim = (8,16)\r\n",
    "    #print(img.shape)\r\n",
    "    img_resized = cv2.resize(img, dim, interpolation = cv2.INTER_AREA)\r\n",
    "    return img_resized"
   ]
  },
  {
   "cell_type": "code",
   "execution_count": 23,
   "metadata": {
    "tags": []
   },
   "outputs": [
    {
     "output_type": "stream",
     "name": "stderr",
     "text": [
      "100%|██████████| 33402/33402 [00:45<00:00, 739.62it/s]\n"
     ]
    }
   ],
   "source": [
    "filename = 'HOG_16x32'\n",
    "num_desc = 756\n",
    "tosave = np.zeros((len(train_images), num_desc))\n",
    "for i in tqdm(range(len(train_images))):\n",
    "    I = get_cropped(train_path,labels, i)\n",
    "    I = resize_img(I, option =0)\n",
    "    desc= hog(I, orientations= 9, pixels_per_cell = (4,4), cells_per_block = (2,2))\n",
    "    #print(tosave[i,:].shape)\n",
    "    \n",
    "    #print('i is', i)\n",
    "    tosave[i,:] = desc "
   ]
  },
  {
   "cell_type": "code",
   "execution_count": 24,
   "metadata": {},
   "outputs": [],
   "source": [
    "fileObj = open('./' + filename, 'wb')\n",
    "pickle.dump(tosave, fileObj)\n",
    "fileObj.close()"
   ]
  },
  {
   "cell_type": "code",
   "execution_count": 25,
   "metadata": {},
   "outputs": [],
   "source": [
    "#tosave[0:1,:]"
   ]
  },
  {
   "cell_type": "code",
   "execution_count": 27,
   "metadata": {},
   "outputs": [
    {
     "output_type": "stream",
     "name": "stdout",
     "text": [
      "1.png\n"
     ]
    },
    {
     "output_type": "execute_result",
     "data": {
      "text/plain": [
       "name      1.png\n",
       "height      219\n",
       "left        246\n",
       "top          77\n",
       "width        81\n",
       "label         1\n",
       "Name: 0, dtype: object"
      ]
     },
     "metadata": {},
     "execution_count": 27
    },
    {
     "output_type": "display_data",
     "data": {
      "text/plain": "<Figure size 432x288 with 1 Axes>",
      "image/svg+xml": "<?xml version=\"1.0\" encoding=\"utf-8\" standalone=\"no\"?>\r\n<!DOCTYPE svg PUBLIC \"-//W3C//DTD SVG 1.1//EN\"\r\n  \"http://www.w3.org/Graphics/SVG/1.1/DTD/svg11.dtd\">\r\n<!-- Created with matplotlib (https://matplotlib.org/) -->\r\n<svg height=\"248.919844pt\" version=\"1.1\" viewBox=\"0 0 142.845 248.919844\" width=\"142.845pt\" xmlns=\"http://www.w3.org/2000/svg\" xmlns:xlink=\"http://www.w3.org/1999/xlink\">\r\n <metadata>\r\n  <rdf:RDF xmlns:cc=\"http://creativecommons.org/ns#\" xmlns:dc=\"http://purl.org/dc/elements/1.1/\" xmlns:rdf=\"http://www.w3.org/1999/02/22-rdf-syntax-ns#\">\r\n   <cc:Work>\r\n    <dc:type rdf:resource=\"http://purl.org/dc/dcmitype/StillImage\"/>\r\n    <dc:date>2020-12-25T18:38:09.715259</dc:date>\r\n    <dc:format>image/svg+xml</dc:format>\r\n    <dc:creator>\r\n     <cc:Agent>\r\n      <dc:title>Matplotlib v3.3.3, https://matplotlib.org/</dc:title>\r\n     </cc:Agent>\r\n    </dc:creator>\r\n   </cc:Work>\r\n  </rdf:RDF>\r\n </metadata>\r\n <defs>\r\n  <style type=\"text/css\">*{stroke-linecap:butt;stroke-linejoin:round;}</style>\r\n </defs>\r\n <g id=\"figure_1\">\r\n  <g id=\"patch_1\">\r\n   <path d=\"M 0 248.919844 \r\nL 142.845 248.919844 \r\nL 142.845 0 \r\nL 0 0 \r\nz\r\n\" style=\"fill:none;\"/>\r\n  </g>\r\n  <g id=\"axes_1\">\r\n   <g id=\"patch_2\">\r\n    <path d=\"M 26.925 225.041719 \r\nL 135.645 225.041719 \r\nL 135.645 7.601719 \r\nL 26.925 7.601719 \r\nz\r\n\" style=\"fill:#ffffff;\"/>\r\n   </g>\r\n   <g clip-path=\"url(#pf763c3fe13)\">\r\n    <image height=\"218\" id=\"image609aef90dc\" transform=\"scale(1 -1)translate(0 -218)\" width=\"109\" x=\"26.925\" xlink:href=\"data:image/png;base64,\r\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\" y=\"-7.041719\"/>\r\n   </g>\r\n   <g id=\"matplotlib.axis_1\">\r\n    <g id=\"xtick_1\">\r\n     <g id=\"line2d_1\">\r\n      <defs>\r\n       <path d=\"M 0 0 \r\nL 0 3.5 \r\n\" id=\"mebfcb70606\" style=\"stroke:#000000;stroke-width:0.8;\"/>\r\n      </defs>\r\n      <g>\r\n       <use style=\"stroke:#000000;stroke-width:0.8;\" x=\"30.3225\" xlink:href=\"#mebfcb70606\" y=\"225.041719\"/>\r\n      </g>\r\n     </g>\r\n     <g id=\"text_1\">\r\n      <!-- 0 -->\r\n      <g transform=\"translate(27.14125 239.640156)scale(0.1 -0.1)\">\r\n       <defs>\r\n        <path d=\"M 31.78125 66.40625 \r\nQ 24.171875 66.40625 20.328125 58.90625 \r\nQ 16.5 51.421875 16.5 36.375 \r\nQ 16.5 21.390625 20.328125 13.890625 \r\nQ 24.171875 6.390625 31.78125 6.390625 \r\nQ 39.453125 6.390625 43.28125 13.890625 \r\nQ 47.125 21.390625 47.125 36.375 \r\nQ 47.125 51.421875 43.28125 58.90625 \r\nQ 39.453125 66.40625 31.78125 66.40625 \r\nz\r\nM 31.78125 74.21875 \r\nQ 44.046875 74.21875 50.515625 64.515625 \r\nQ 56.984375 54.828125 56.984375 36.375 \r\nQ 56.984375 17.96875 50.515625 8.265625 \r\nQ 44.046875 -1.421875 31.78125 -1.421875 \r\nQ 19.53125 -1.421875 13.0625 8.265625 \r\nQ 6.59375 17.96875 6.59375 36.375 \r\nQ 6.59375 54.828125 13.0625 64.515625 \r\nQ 19.53125 74.21875 31.78125 74.21875 \r\nz\r\n\" id=\"DejaVuSans-48\"/>\r\n       </defs>\r\n       <use xlink:href=\"#DejaVuSans-48\"/>\r\n      </g>\r\n     </g>\r\n    </g>\r\n    <g id=\"xtick_2\">\r\n     <g id=\"line2d_2\">\r\n      <g>\r\n       <use style=\"stroke:#000000;stroke-width:0.8;\" x=\"98.2725\" xlink:href=\"#mebfcb70606\" y=\"225.041719\"/>\r\n      </g>\r\n     </g>\r\n     <g id=\"text_2\">\r\n      <!-- 10 -->\r\n      <g transform=\"translate(91.91 239.640156)scale(0.1 -0.1)\">\r\n       <defs>\r\n        <path d=\"M 12.40625 8.296875 \r\nL 28.515625 8.296875 \r\nL 28.515625 63.921875 \r\nL 10.984375 60.40625 \r\nL 10.984375 69.390625 \r\nL 28.421875 72.90625 \r\nL 38.28125 72.90625 \r\nL 38.28125 8.296875 \r\nL 54.390625 8.296875 \r\nL 54.390625 0 \r\nL 12.40625 0 \r\nz\r\n\" id=\"DejaVuSans-49\"/>\r\n       </defs>\r\n       <use xlink:href=\"#DejaVuSans-49\"/>\r\n       <use x=\"63.623047\" xlink:href=\"#DejaVuSans-48\"/>\r\n      </g>\r\n     </g>\r\n    </g>\r\n   </g>\r\n   <g id=\"matplotlib.axis_2\">\r\n    <g id=\"ytick_1\">\r\n     <g id=\"line2d_3\">\r\n      <defs>\r\n       <path d=\"M 0 0 \r\nL -3.5 0 \r\n\" id=\"m4fd4497dec\" style=\"stroke:#000000;stroke-width:0.8;\"/>\r\n      </defs>\r\n      <g>\r\n       <use style=\"stroke:#000000;stroke-width:0.8;\" x=\"26.925\" xlink:href=\"#m4fd4497dec\" y=\"10.999219\"/>\r\n      </g>\r\n     </g>\r\n     <g id=\"text_3\">\r\n      <!-- 0 -->\r\n      <g transform=\"translate(13.5625 14.798437)scale(0.1 -0.1)\">\r\n       <use xlink:href=\"#DejaVuSans-48\"/>\r\n      </g>\r\n     </g>\r\n    </g>\r\n    <g id=\"ytick_2\">\r\n     <g id=\"line2d_4\">\r\n      <g>\r\n       <use style=\"stroke:#000000;stroke-width:0.8;\" x=\"26.925\" xlink:href=\"#m4fd4497dec\" y=\"44.974219\"/>\r\n      </g>\r\n     </g>\r\n     <g id=\"text_4\">\r\n      <!-- 5 -->\r\n      <g transform=\"translate(13.5625 48.773437)scale(0.1 -0.1)\">\r\n       <defs>\r\n        <path d=\"M 10.796875 72.90625 \r\nL 49.515625 72.90625 \r\nL 49.515625 64.59375 \r\nL 19.828125 64.59375 \r\nL 19.828125 46.734375 \r\nQ 21.96875 47.46875 24.109375 47.828125 \r\nQ 26.265625 48.1875 28.421875 48.1875 \r\nQ 40.625 48.1875 47.75 41.5 \r\nQ 54.890625 34.8125 54.890625 23.390625 \r\nQ 54.890625 11.625 47.5625 5.09375 \r\nQ 40.234375 -1.421875 26.90625 -1.421875 \r\nQ 22.3125 -1.421875 17.546875 -0.640625 \r\nQ 12.796875 0.140625 7.71875 1.703125 \r\nL 7.71875 11.625 \r\nQ 12.109375 9.234375 16.796875 8.0625 \r\nQ 21.484375 6.890625 26.703125 6.890625 \r\nQ 35.15625 6.890625 40.078125 11.328125 \r\nQ 45.015625 15.765625 45.015625 23.390625 \r\nQ 45.015625 31 40.078125 35.4375 \r\nQ 35.15625 39.890625 26.703125 39.890625 \r\nQ 22.75 39.890625 18.8125 39.015625 \r\nQ 14.890625 38.140625 10.796875 36.28125 \r\nz\r\n\" id=\"DejaVuSans-53\"/>\r\n       </defs>\r\n       <use xlink:href=\"#DejaVuSans-53\"/>\r\n      </g>\r\n     </g>\r\n    </g>\r\n    <g id=\"ytick_3\">\r\n     <g id=\"line2d_5\">\r\n      <g>\r\n       <use style=\"stroke:#000000;stroke-width:0.8;\" x=\"26.925\" xlink:href=\"#m4fd4497dec\" y=\"78.949219\"/>\r\n      </g>\r\n     </g>\r\n     <g id=\"text_5\">\r\n      <!-- 10 -->\r\n      <g transform=\"translate(7.2 82.748437)scale(0.1 -0.1)\">\r\n       <use xlink:href=\"#DejaVuSans-49\"/>\r\n       <use x=\"63.623047\" xlink:href=\"#DejaVuSans-48\"/>\r\n      </g>\r\n     </g>\r\n    </g>\r\n    <g id=\"ytick_4\">\r\n     <g id=\"line2d_6\">\r\n      <g>\r\n       <use style=\"stroke:#000000;stroke-width:0.8;\" x=\"26.925\" xlink:href=\"#m4fd4497dec\" y=\"112.924219\"/>\r\n      </g>\r\n     </g>\r\n     <g id=\"text_6\">\r\n      <!-- 15 -->\r\n      <g transform=\"translate(7.2 116.723437)scale(0.1 -0.1)\">\r\n       <use xlink:href=\"#DejaVuSans-49\"/>\r\n       <use x=\"63.623047\" xlink:href=\"#DejaVuSans-53\"/>\r\n      </g>\r\n     </g>\r\n    </g>\r\n    <g id=\"ytick_5\">\r\n     <g id=\"line2d_7\">\r\n      <g>\r\n       <use style=\"stroke:#000000;stroke-width:0.8;\" x=\"26.925\" xlink:href=\"#m4fd4497dec\" y=\"146.899219\"/>\r\n      </g>\r\n     </g>\r\n     <g id=\"text_7\">\r\n      <!-- 20 -->\r\n      <g transform=\"translate(7.2 150.698437)scale(0.1 -0.1)\">\r\n       <defs>\r\n        <path d=\"M 19.1875 8.296875 \r\nL 53.609375 8.296875 \r\nL 53.609375 0 \r\nL 7.328125 0 \r\nL 7.328125 8.296875 \r\nQ 12.9375 14.109375 22.625 23.890625 \r\nQ 32.328125 33.6875 34.8125 36.53125 \r\nQ 39.546875 41.84375 41.421875 45.53125 \r\nQ 43.3125 49.21875 43.3125 52.78125 \r\nQ 43.3125 58.59375 39.234375 62.25 \r\nQ 35.15625 65.921875 28.609375 65.921875 \r\nQ 23.96875 65.921875 18.8125 64.3125 \r\nQ 13.671875 62.703125 7.8125 59.421875 \r\nL 7.8125 69.390625 \r\nQ 13.765625 71.78125 18.9375 73 \r\nQ 24.125 74.21875 28.421875 74.21875 \r\nQ 39.75 74.21875 46.484375 68.546875 \r\nQ 53.21875 62.890625 53.21875 53.421875 \r\nQ 53.21875 48.921875 51.53125 44.890625 \r\nQ 49.859375 40.875 45.40625 35.40625 \r\nQ 44.1875 33.984375 37.640625 27.21875 \r\nQ 31.109375 20.453125 19.1875 8.296875 \r\nz\r\n\" id=\"DejaVuSans-50\"/>\r\n       </defs>\r\n       <use xlink:href=\"#DejaVuSans-50\"/>\r\n       <use x=\"63.623047\" xlink:href=\"#DejaVuSans-48\"/>\r\n      </g>\r\n     </g>\r\n    </g>\r\n    <g id=\"ytick_6\">\r\n     <g id=\"line2d_8\">\r\n      <g>\r\n       <use style=\"stroke:#000000;stroke-width:0.8;\" x=\"26.925\" xlink:href=\"#m4fd4497dec\" y=\"180.874219\"/>\r\n      </g>\r\n     </g>\r\n     <g id=\"text_8\">\r\n      <!-- 25 -->\r\n      <g transform=\"translate(7.2 184.673437)scale(0.1 -0.1)\">\r\n       <use xlink:href=\"#DejaVuSans-50\"/>\r\n       <use x=\"63.623047\" xlink:href=\"#DejaVuSans-53\"/>\r\n      </g>\r\n     </g>\r\n    </g>\r\n    <g id=\"ytick_7\">\r\n     <g id=\"line2d_9\">\r\n      <g>\r\n       <use style=\"stroke:#000000;stroke-width:0.8;\" x=\"26.925\" xlink:href=\"#m4fd4497dec\" y=\"214.849219\"/>\r\n      </g>\r\n     </g>\r\n     <g id=\"text_9\">\r\n      <!-- 30 -->\r\n      <g transform=\"translate(7.2 218.648437)scale(0.1 -0.1)\">\r\n       <defs>\r\n        <path d=\"M 40.578125 39.3125 \r\nQ 47.65625 37.796875 51.625 33 \r\nQ 55.609375 28.21875 55.609375 21.1875 \r\nQ 55.609375 10.40625 48.1875 4.484375 \r\nQ 40.765625 -1.421875 27.09375 -1.421875 \r\nQ 22.515625 -1.421875 17.65625 -0.515625 \r\nQ 12.796875 0.390625 7.625 2.203125 \r\nL 7.625 11.71875 \r\nQ 11.71875 9.328125 16.59375 8.109375 \r\nQ 21.484375 6.890625 26.8125 6.890625 \r\nQ 36.078125 6.890625 40.9375 10.546875 \r\nQ 45.796875 14.203125 45.796875 21.1875 \r\nQ 45.796875 27.640625 41.28125 31.265625 \r\nQ 36.765625 34.90625 28.71875 34.90625 \r\nL 20.21875 34.90625 \r\nL 20.21875 43.015625 \r\nL 29.109375 43.015625 \r\nQ 36.375 43.015625 40.234375 45.921875 \r\nQ 44.09375 48.828125 44.09375 54.296875 \r\nQ 44.09375 59.90625 40.109375 62.90625 \r\nQ 36.140625 65.921875 28.71875 65.921875 \r\nQ 24.65625 65.921875 20.015625 65.03125 \r\nQ 15.375 64.15625 9.8125 62.3125 \r\nL 9.8125 71.09375 \r\nQ 15.4375 72.65625 20.34375 73.4375 \r\nQ 25.25 74.21875 29.59375 74.21875 \r\nQ 40.828125 74.21875 47.359375 69.109375 \r\nQ 53.90625 64.015625 53.90625 55.328125 \r\nQ 53.90625 49.265625 50.4375 45.09375 \r\nQ 46.96875 40.921875 40.578125 39.3125 \r\nz\r\n\" id=\"DejaVuSans-51\"/>\r\n       </defs>\r\n       <use xlink:href=\"#DejaVuSans-51\"/>\r\n       <use x=\"63.623047\" xlink:href=\"#DejaVuSans-48\"/>\r\n      </g>\r\n     </g>\r\n    </g>\r\n   </g>\r\n   <g id=\"patch_3\">\r\n    <path d=\"M 26.925 225.041719 \r\nL 26.925 7.601719 \r\n\" style=\"fill:none;stroke:#000000;stroke-linecap:square;stroke-linejoin:miter;stroke-width:0.8;\"/>\r\n   </g>\r\n   <g id=\"patch_4\">\r\n    <path d=\"M 135.645 225.041719 \r\nL 135.645 7.601719 \r\n\" style=\"fill:none;stroke:#000000;stroke-linecap:square;stroke-linejoin:miter;stroke-width:0.8;\"/>\r\n   </g>\r\n   <g id=\"patch_5\">\r\n    <path d=\"M 26.925 225.041719 \r\nL 135.645 225.041719 \r\n\" style=\"fill:none;stroke:#000000;stroke-linecap:square;stroke-linejoin:miter;stroke-width:0.8;\"/>\r\n   </g>\r\n   <g id=\"patch_6\">\r\n    <path d=\"M 26.925 7.601719 \r\nL 135.645 7.601719 \r\n\" style=\"fill:none;stroke:#000000;stroke-linecap:square;stroke-linejoin:miter;stroke-width:0.8;\"/>\r\n   </g>\r\n  </g>\r\n </g>\r\n <defs>\r\n  <clipPath id=\"pf763c3fe13\">\r\n   <rect height=\"217.44\" width=\"108.72\" x=\"26.925\" y=\"7.601719\"/>\r\n  </clipPath>\r\n </defs>\r\n</svg>\r\n",
      "image/png": "[encoded data removed]"
     },
     "metadata": {
      "needs_background": "light"
     }
    }
   ],
   "source": [
    "index = 0\n",
    "#image = cv2.imread(os.path.join(train_path, labels['name'][index]))\n",
    "todisp = resize_img(get_cropped(train_path,labels, index))\n",
    "plt.imshow(todisp)\n",
    "print(labels['name'][index])\n",
    "labels.loc[index]"
   ]
  },
  {
   "cell_type": "code",
   "execution_count": 28,
   "metadata": {},
   "outputs": [
    {
     "output_type": "execute_result",
     "data": {
      "text/plain": [
       "(32, 16)"
      ]
     },
     "metadata": {},
     "execution_count": 28
    }
   ],
   "source": [
    "todisp.shape"
   ]
  },
  {
   "cell_type": "code",
   "execution_count": 29,
   "metadata": {},
   "outputs": [],
   "source": [
    "des , hogim = hog(todisp, pixels_per_cell = (8,8), cells_per_block = (4,2), visualize = True)\n"
   ]
  },
  {
   "cell_type": "code",
   "execution_count": 30,
   "metadata": {},
   "outputs": [
    {
     "output_type": "execute_result",
     "data": {
      "text/plain": [
       "(72,)"
      ]
     },
     "metadata": {},
     "execution_count": 30
    }
   ],
   "source": [
    "des.shape"
   ]
  },
  {
   "cell_type": "code",
   "execution_count": 31,
   "metadata": {},
   "outputs": [
    {
     "output_type": "execute_result",
     "data": {
      "text/plain": [
       "<matplotlib.image.AxesImage at 0x25c08760910>"
      ]
     },
     "metadata": {},
     "execution_count": 31
    },
    {
     "output_type": "display_data",
     "data": {
      "text/plain": "<Figure size 432x288 with 1 Axes>",
      "image/svg+xml": "<?xml version=\"1.0\" encoding=\"utf-8\" standalone=\"no\"?>\r\n<!DOCTYPE svg PUBLIC \"-//W3C//DTD SVG 1.1//EN\"\r\n  \"http://www.w3.org/Graphics/SVG/1.1/DTD/svg11.dtd\">\r\n<!-- Created with matplotlib (https://matplotlib.org/) -->\r\n<svg height=\"248.919844pt\" version=\"1.1\" viewBox=\"0 0 142.845 248.919844\" width=\"142.845pt\" xmlns=\"http://www.w3.org/2000/svg\" xmlns:xlink=\"http://www.w3.org/1999/xlink\">\r\n <metadata>\r\n  <rdf:RDF xmlns:cc=\"http://creativecommons.org/ns#\" xmlns:dc=\"http://purl.org/dc/elements/1.1/\" xmlns:rdf=\"http://www.w3.org/1999/02/22-rdf-syntax-ns#\">\r\n   <cc:Work>\r\n    <dc:type rdf:resource=\"http://purl.org/dc/dcmitype/StillImage\"/>\r\n    <dc:date>2020-12-25T18:38:14.813556</dc:date>\r\n    <dc:format>image/svg+xml</dc:format>\r\n    <dc:creator>\r\n     <cc:Agent>\r\n      <dc:title>Matplotlib v3.3.3, https://matplotlib.org/</dc:title>\r\n     </cc:Agent>\r\n    </dc:creator>\r\n   </cc:Work>\r\n  </rdf:RDF>\r\n </metadata>\r\n <defs>\r\n  <style type=\"text/css\">*{stroke-linecap:butt;stroke-linejoin:round;}</style>\r\n </defs>\r\n <g id=\"figure_1\">\r\n  <g id=\"patch_1\">\r\n   <path d=\"M 0 248.919844 \r\nL 142.845 248.919844 \r\nL 142.845 0 \r\nL 0 0 \r\nz\r\n\" style=\"fill:none;\"/>\r\n  </g>\r\n  <g id=\"axes_1\">\r\n   <g id=\"patch_2\">\r\n    <path d=\"M 26.925 225.041719 \r\nL 135.645 225.041719 \r\nL 135.645 7.601719 \r\nL 26.925 7.601719 \r\nz\r\n\" style=\"fill:#ffffff;\"/>\r\n   </g>\r\n   <g clip-path=\"url(#pcdf40b5a43)\">\r\n    <image height=\"218\" id=\"imagefccfccd1a0\" transform=\"scale(1 -1)translate(0 -218)\" width=\"109\" x=\"26.925\" xlink:href=\"data:image/png;base64,\r\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\" y=\"-7.041719\"/>\r\n   </g>\r\n   <g id=\"matplotlib.axis_1\">\r\n    <g id=\"xtick_1\">\r\n     <g id=\"line2d_1\">\r\n      <defs>\r\n       <path d=\"M 0 0 \r\nL 0 3.5 \r\n\" id=\"mb10e778d48\" style=\"stroke:#000000;stroke-width:0.8;\"/>\r\n      </defs>\r\n      <g>\r\n       <use style=\"stroke:#000000;stroke-width:0.8;\" x=\"30.3225\" xlink:href=\"#mb10e778d48\" y=\"225.041719\"/>\r\n      </g>\r\n     </g>\r\n     <g id=\"text_1\">\r\n      <!-- 0 -->\r\n      <g transform=\"translate(27.14125 239.640156)scale(0.1 -0.1)\">\r\n       <defs>\r\n        <path d=\"M 31.78125 66.40625 \r\nQ 24.171875 66.40625 20.328125 58.90625 \r\nQ 16.5 51.421875 16.5 36.375 \r\nQ 16.5 21.390625 20.328125 13.890625 \r\nQ 24.171875 6.390625 31.78125 6.390625 \r\nQ 39.453125 6.390625 43.28125 13.890625 \r\nQ 47.125 21.390625 47.125 36.375 \r\nQ 47.125 51.421875 43.28125 58.90625 \r\nQ 39.453125 66.40625 31.78125 66.40625 \r\nz\r\nM 31.78125 74.21875 \r\nQ 44.046875 74.21875 50.515625 64.515625 \r\nQ 56.984375 54.828125 56.984375 36.375 \r\nQ 56.984375 17.96875 50.515625 8.265625 \r\nQ 44.046875 -1.421875 31.78125 -1.421875 \r\nQ 19.53125 -1.421875 13.0625 8.265625 \r\nQ 6.59375 17.96875 6.59375 36.375 \r\nQ 6.59375 54.828125 13.0625 64.515625 \r\nQ 19.53125 74.21875 31.78125 74.21875 \r\nz\r\n\" id=\"DejaVuSans-48\"/>\r\n       </defs>\r\n       <use xlink:href=\"#DejaVuSans-48\"/>\r\n      </g>\r\n     </g>\r\n    </g>\r\n    <g id=\"xtick_2\">\r\n     <g id=\"line2d_2\">\r\n      <g>\r\n       <use style=\"stroke:#000000;stroke-width:0.8;\" x=\"98.2725\" xlink:href=\"#mb10e778d48\" y=\"225.041719\"/>\r\n      </g>\r\n     </g>\r\n     <g id=\"text_2\">\r\n      <!-- 10 -->\r\n      <g transform=\"translate(91.91 239.640156)scale(0.1 -0.1)\">\r\n       <defs>\r\n        <path d=\"M 12.40625 8.296875 \r\nL 28.515625 8.296875 \r\nL 28.515625 63.921875 \r\nL 10.984375 60.40625 \r\nL 10.984375 69.390625 \r\nL 28.421875 72.90625 \r\nL 38.28125 72.90625 \r\nL 38.28125 8.296875 \r\nL 54.390625 8.296875 \r\nL 54.390625 0 \r\nL 12.40625 0 \r\nz\r\n\" id=\"DejaVuSans-49\"/>\r\n       </defs>\r\n       <use xlink:href=\"#DejaVuSans-49\"/>\r\n       <use x=\"63.623047\" xlink:href=\"#DejaVuSans-48\"/>\r\n      </g>\r\n     </g>\r\n    </g>\r\n   </g>\r\n   <g id=\"matplotlib.axis_2\">\r\n    <g id=\"ytick_1\">\r\n     <g id=\"line2d_3\">\r\n      <defs>\r\n       <path d=\"M 0 0 \r\nL -3.5 0 \r\n\" id=\"m017e554723\" style=\"stroke:#000000;stroke-width:0.8;\"/>\r\n      </defs>\r\n      <g>\r\n       <use style=\"stroke:#000000;stroke-width:0.8;\" x=\"26.925\" xlink:href=\"#m017e554723\" y=\"10.999219\"/>\r\n      </g>\r\n     </g>\r\n     <g id=\"text_3\">\r\n      <!-- 0 -->\r\n      <g transform=\"translate(13.5625 14.798437)scale(0.1 -0.1)\">\r\n       <use xlink:href=\"#DejaVuSans-48\"/>\r\n      </g>\r\n     </g>\r\n    </g>\r\n    <g id=\"ytick_2\">\r\n     <g id=\"line2d_4\">\r\n      <g>\r\n       <use style=\"stroke:#000000;stroke-width:0.8;\" x=\"26.925\" xlink:href=\"#m017e554723\" y=\"44.974219\"/>\r\n      </g>\r\n     </g>\r\n     <g id=\"text_4\">\r\n      <!-- 5 -->\r\n      <g transform=\"translate(13.5625 48.773437)scale(0.1 -0.1)\">\r\n       <defs>\r\n        <path d=\"M 10.796875 72.90625 \r\nL 49.515625 72.90625 \r\nL 49.515625 64.59375 \r\nL 19.828125 64.59375 \r\nL 19.828125 46.734375 \r\nQ 21.96875 47.46875 24.109375 47.828125 \r\nQ 26.265625 48.1875 28.421875 48.1875 \r\nQ 40.625 48.1875 47.75 41.5 \r\nQ 54.890625 34.8125 54.890625 23.390625 \r\nQ 54.890625 11.625 47.5625 5.09375 \r\nQ 40.234375 -1.421875 26.90625 -1.421875 \r\nQ 22.3125 -1.421875 17.546875 -0.640625 \r\nQ 12.796875 0.140625 7.71875 1.703125 \r\nL 7.71875 11.625 \r\nQ 12.109375 9.234375 16.796875 8.0625 \r\nQ 21.484375 6.890625 26.703125 6.890625 \r\nQ 35.15625 6.890625 40.078125 11.328125 \r\nQ 45.015625 15.765625 45.015625 23.390625 \r\nQ 45.015625 31 40.078125 35.4375 \r\nQ 35.15625 39.890625 26.703125 39.890625 \r\nQ 22.75 39.890625 18.8125 39.015625 \r\nQ 14.890625 38.140625 10.796875 36.28125 \r\nz\r\n\" id=\"DejaVuSans-53\"/>\r\n       </defs>\r\n       <use xlink:href=\"#DejaVuSans-53\"/>\r\n      </g>\r\n     </g>\r\n    </g>\r\n    <g id=\"ytick_3\">\r\n     <g id=\"line2d_5\">\r\n      <g>\r\n       <use style=\"stroke:#000000;stroke-width:0.8;\" x=\"26.925\" xlink:href=\"#m017e554723\" y=\"78.949219\"/>\r\n      </g>\r\n     </g>\r\n     <g id=\"text_5\">\r\n      <!-- 10 -->\r\n      <g transform=\"translate(7.2 82.748437)scale(0.1 -0.1)\">\r\n       <use xlink:href=\"#DejaVuSans-49\"/>\r\n       <use x=\"63.623047\" xlink:href=\"#DejaVuSans-48\"/>\r\n      </g>\r\n     </g>\r\n    </g>\r\n    <g id=\"ytick_4\">\r\n     <g id=\"line2d_6\">\r\n      <g>\r\n       <use style=\"stroke:#000000;stroke-width:0.8;\" x=\"26.925\" xlink:href=\"#m017e554723\" y=\"112.924219\"/>\r\n      </g>\r\n     </g>\r\n     <g id=\"text_6\">\r\n      <!-- 15 -->\r\n      <g transform=\"translate(7.2 116.723437)scale(0.1 -0.1)\">\r\n       <use xlink:href=\"#DejaVuSans-49\"/>\r\n       <use x=\"63.623047\" xlink:href=\"#DejaVuSans-53\"/>\r\n      </g>\r\n     </g>\r\n    </g>\r\n    <g id=\"ytick_5\">\r\n     <g id=\"line2d_7\">\r\n      <g>\r\n       <use style=\"stroke:#000000;stroke-width:0.8;\" x=\"26.925\" xlink:href=\"#m017e554723\" y=\"146.899219\"/>\r\n      </g>\r\n     </g>\r\n     <g id=\"text_7\">\r\n      <!-- 20 -->\r\n      <g transform=\"translate(7.2 150.698437)scale(0.1 -0.1)\">\r\n       <defs>\r\n        <path d=\"M 19.1875 8.296875 \r\nL 53.609375 8.296875 \r\nL 53.609375 0 \r\nL 7.328125 0 \r\nL 7.328125 8.296875 \r\nQ 12.9375 14.109375 22.625 23.890625 \r\nQ 32.328125 33.6875 34.8125 36.53125 \r\nQ 39.546875 41.84375 41.421875 45.53125 \r\nQ 43.3125 49.21875 43.3125 52.78125 \r\nQ 43.3125 58.59375 39.234375 62.25 \r\nQ 35.15625 65.921875 28.609375 65.921875 \r\nQ 23.96875 65.921875 18.8125 64.3125 \r\nQ 13.671875 62.703125 7.8125 59.421875 \r\nL 7.8125 69.390625 \r\nQ 13.765625 71.78125 18.9375 73 \r\nQ 24.125 74.21875 28.421875 74.21875 \r\nQ 39.75 74.21875 46.484375 68.546875 \r\nQ 53.21875 62.890625 53.21875 53.421875 \r\nQ 53.21875 48.921875 51.53125 44.890625 \r\nQ 49.859375 40.875 45.40625 35.40625 \r\nQ 44.1875 33.984375 37.640625 27.21875 \r\nQ 31.109375 20.453125 19.1875 8.296875 \r\nz\r\n\" id=\"DejaVuSans-50\"/>\r\n       </defs>\r\n       <use xlink:href=\"#DejaVuSans-50\"/>\r\n       <use x=\"63.623047\" xlink:href=\"#DejaVuSans-48\"/>\r\n      </g>\r\n     </g>\r\n    </g>\r\n    <g id=\"ytick_6\">\r\n     <g id=\"line2d_8\">\r\n      <g>\r\n       <use style=\"stroke:#000000;stroke-width:0.8;\" x=\"26.925\" xlink:href=\"#m017e554723\" y=\"180.874219\"/>\r\n      </g>\r\n     </g>\r\n     <g id=\"text_8\">\r\n      <!-- 25 -->\r\n      <g transform=\"translate(7.2 184.673437)scale(0.1 -0.1)\">\r\n       <use xlink:href=\"#DejaVuSans-50\"/>\r\n       <use x=\"63.623047\" xlink:href=\"#DejaVuSans-53\"/>\r\n      </g>\r\n     </g>\r\n    </g>\r\n    <g id=\"ytick_7\">\r\n     <g id=\"line2d_9\">\r\n      <g>\r\n       <use style=\"stroke:#000000;stroke-width:0.8;\" x=\"26.925\" xlink:href=\"#m017e554723\" y=\"214.849219\"/>\r\n      </g>\r\n     </g>\r\n     <g id=\"text_9\">\r\n      <!-- 30 -->\r\n      <g transform=\"translate(7.2 218.648437)scale(0.1 -0.1)\">\r\n       <defs>\r\n        <path d=\"M 40.578125 39.3125 \r\nQ 47.65625 37.796875 51.625 33 \r\nQ 55.609375 28.21875 55.609375 21.1875 \r\nQ 55.609375 10.40625 48.1875 4.484375 \r\nQ 40.765625 -1.421875 27.09375 -1.421875 \r\nQ 22.515625 -1.421875 17.65625 -0.515625 \r\nQ 12.796875 0.390625 7.625 2.203125 \r\nL 7.625 11.71875 \r\nQ 11.71875 9.328125 16.59375 8.109375 \r\nQ 21.484375 6.890625 26.8125 6.890625 \r\nQ 36.078125 6.890625 40.9375 10.546875 \r\nQ 45.796875 14.203125 45.796875 21.1875 \r\nQ 45.796875 27.640625 41.28125 31.265625 \r\nQ 36.765625 34.90625 28.71875 34.90625 \r\nL 20.21875 34.90625 \r\nL 20.21875 43.015625 \r\nL 29.109375 43.015625 \r\nQ 36.375 43.015625 40.234375 45.921875 \r\nQ 44.09375 48.828125 44.09375 54.296875 \r\nQ 44.09375 59.90625 40.109375 62.90625 \r\nQ 36.140625 65.921875 28.71875 65.921875 \r\nQ 24.65625 65.921875 20.015625 65.03125 \r\nQ 15.375 64.15625 9.8125 62.3125 \r\nL 9.8125 71.09375 \r\nQ 15.4375 72.65625 20.34375 73.4375 \r\nQ 25.25 74.21875 29.59375 74.21875 \r\nQ 40.828125 74.21875 47.359375 69.109375 \r\nQ 53.90625 64.015625 53.90625 55.328125 \r\nQ 53.90625 49.265625 50.4375 45.09375 \r\nQ 46.96875 40.921875 40.578125 39.3125 \r\nz\r\n\" id=\"DejaVuSans-51\"/>\r\n       </defs>\r\n       <use xlink:href=\"#DejaVuSans-51\"/>\r\n       <use x=\"63.623047\" xlink:href=\"#DejaVuSans-48\"/>\r\n      </g>\r\n     </g>\r\n    </g>\r\n   </g>\r\n   <g id=\"patch_3\">\r\n    <path d=\"M 26.925 225.041719 \r\nL 26.925 7.601719 \r\n\" style=\"fill:none;stroke:#000000;stroke-linecap:square;stroke-linejoin:miter;stroke-width:0.8;\"/>\r\n   </g>\r\n   <g id=\"patch_4\">\r\n    <path d=\"M 135.645 225.041719 \r\nL 135.645 7.601719 \r\n\" style=\"fill:none;stroke:#000000;stroke-linecap:square;stroke-linejoin:miter;stroke-width:0.8;\"/>\r\n   </g>\r\n   <g id=\"patch_5\">\r\n    <path d=\"M 26.925 225.041719 \r\nL 135.645 225.041719 \r\n\" style=\"fill:none;stroke:#000000;stroke-linecap:square;stroke-linejoin:miter;stroke-width:0.8;\"/>\r\n   </g>\r\n   <g id=\"patch_6\">\r\n    <path d=\"M 26.925 7.601719 \r\nL 135.645 7.601719 \r\n\" style=\"fill:none;stroke:#000000;stroke-linecap:square;stroke-linejoin:miter;stroke-width:0.8;\"/>\r\n   </g>\r\n  </g>\r\n </g>\r\n <defs>\r\n  <clipPath id=\"pcdf40b5a43\">\r\n   <rect height=\"217.44\" width=\"108.72\" x=\"26.925\" y=\"7.601719\"/>\r\n  </clipPath>\r\n </defs>\r\n</svg>\r\n",
      "image/png": "[encoded data removed]"
     },
     "metadata": {
      "needs_background": "light"
     }
    }
   ],
   "source": [
    "plt.imshow(hogim, cmap = 'gray')"
   ]
  },
  {
   "cell_type": "code",
   "execution_count": 39,
   "metadata": {
    "tags": []
   },
   "outputs": [],
   "source": [
    "\n"
   ]
  },
  {
   "cell_type": "code",
   "execution_count": null,
   "metadata": {},
   "outputs": [],
   "source": []
  }
 ]
}